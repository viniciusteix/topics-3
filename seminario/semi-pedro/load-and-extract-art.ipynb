{
  "cells": [
    {
      "metadata": {
        "_uuid": "8f2839f25d086af736a60e9eeb907d3b93b6e0e5",
        "_cell_guid": "b1076dfc-b9ad-4769-8c92-a6c4dae69d19",
        "trusted": true
      },
      "cell_type": "code",
      "source": "import numpy as np\nimport os\nfrom keras.preprocessing.image import ImageDataGenerator\nfrom keras import optimizers\nfrom keras.models import load_model",
      "execution_count": 1,
      "outputs": [
        {
          "output_type": "stream",
          "text": "Using TensorFlow backend.\n",
          "name": "stderr"
        }
      ]
    },
    {
      "metadata": {
        "_cell_guid": "79c7e3d0-c299-4dcb-8224-4455121ee9b0",
        "_uuid": "d629ff2d2480ee46fbb7e2d37f6b5fab8052498a",
        "trusted": true,
        "scrolled": false
      },
      "cell_type": "code",
      "source": "os.listdir('../input/hands-on-art')",
      "execution_count": 2,
      "outputs": [
        {
          "output_type": "execute_result",
          "execution_count": 2,
          "data": {
            "text/plain": "['__output__.json',\n 'inception_v3_art.h5',\n 'features_inception_v3.npy',\n '__results___files',\n 'custom.css',\n '__results__.html']"
          },
          "metadata": {}
        }
      ]
    },
    {
      "metadata": {
        "trusted": true,
        "_uuid": "4c19c3483f96f2f6e2f57e95e706eed81d023ce9"
      },
      "cell_type": "code",
      "source": "data_dir = '../input/art-movements/dataset/dataset/'",
      "execution_count": 3,
      "outputs": []
    },
    {
      "metadata": {
        "_uuid": "6c85e9242c3a16f12d4fa4ee7de8e8fe1ad2d701"
      },
      "cell_type": "markdown",
      "source": "## Loading data"
    },
    {
      "metadata": {
        "trusted": true,
        "scrolled": true,
        "_uuid": "0ba890e8a1653ae83009c5e15185bef6b5e758d3"
      },
      "cell_type": "code",
      "source": "RESOLUTION = 150\nBATCH_SIZE = 64\n\ntrain_datagen = ImageDataGenerator(rescale=1./255, validation_split=0.3)\n\ntrain_generator = train_datagen.flow_from_directory(\n        data_dir + 'train/',\n        target_size=(RESOLUTION, RESOLUTION),\n        batch_size=BATCH_SIZE,\n        class_mode='categorical', subset=\"training\")\n\nval_datagen = ImageDataGenerator(rescale=1./255, validation_split=0.3)\n\nval_generator = val_datagen.flow_from_directory(\n        data_dir + 'train/',\n        target_size=(RESOLUTION, RESOLUTION),\n        batch_size=BATCH_SIZE,\n        class_mode='categorical', subset=\"validation\")\n\ntest_datagen = ImageDataGenerator(rescale=1./255)\n\ntest_generator = test_datagen.flow_from_directory(\n        data_dir + 'test/',\n        target_size=(RESOLUTION, RESOLUTION),\n        batch_size=BATCH_SIZE,\n        class_mode='categorical')",
      "execution_count": 4,
      "outputs": [
        {
          "output_type": "stream",
          "text": "Found 540 images belonging to 3 classes.\nFound 228 images belonging to 3 classes.\nFound 192 images belonging to 3 classes.\n",
          "name": "stdout"
        }
      ]
    },
    {
      "metadata": {
        "trusted": true,
        "_uuid": "8950832cdf69e23a224729ffdce047b859e8ec35"
      },
      "cell_type": "code",
      "source": "# Class labels\ntrain_generator.class_indices",
      "execution_count": 5,
      "outputs": [
        {
          "output_type": "execute_result",
          "execution_count": 5,
          "data": {
            "text/plain": "{'cubism': 0, 'expressionism': 1, 'romanticism': 2}"
          },
          "metadata": {}
        }
      ]
    },
    {
      "metadata": {
        "_uuid": "8f0dba4a418e1aa7e10d99f0e5643c0b87084ff5"
      },
      "cell_type": "markdown",
      "source": "## Loading saved model"
    },
    {
      "metadata": {
        "trusted": true,
        "_uuid": "a69c67c2bb6493815ee15bfca647aa654aeb3f93"
      },
      "cell_type": "code",
      "source": "model = load_model('../input/hands-on-art/inception_v3_art.h5')",
      "execution_count": 6,
      "outputs": []
    },
    {
      "metadata": {
        "trusted": true,
        "scrolled": true,
        "_uuid": "14b1d6a5c327b2f2657132b882472dc52e3d1485"
      },
      "cell_type": "code",
      "source": "model.summary()",
      "execution_count": 7,
      "outputs": [
        {
          "output_type": "stream",
          "text": "_________________________________________________________________\nLayer (type)                 Output Shape              Param #   \n=================================================================\ninception_v3 (Model)         (None, 3, 3, 2048)        21802784  \n_________________________________________________________________\nflatten_1 (Flatten)          (None, 18432)             0         \n_________________________________________________________________\ndense_1 (Dense)              (None, 256)               4718848   \n_________________________________________________________________\ndense_2 (Dense)              (None, 3)                 771       \n=================================================================\nTotal params: 26,522,403\nTrainable params: 26,487,971\nNon-trainable params: 34,432\n_________________________________________________________________\n",
          "name": "stdout"
        }
      ]
    },
    {
      "metadata": {
        "_uuid": "df0dd317d908c957ca4262505717f49cfcc48529"
      },
      "cell_type": "markdown",
      "source": "## Remove the classification layer (:-1)"
    },
    {
      "metadata": {
        "trusted": true,
        "_uuid": "acbde780d13a7f5623ceb840d14630153cfc0c0e"
      },
      "cell_type": "code",
      "source": "model.pop()\nmodel.compile(loss='categorical_crossentropy', optimizer=optimizers.Adam(lr=1e-4), metrics=['acc'])\n\nmodel.summary()",
      "execution_count": 8,
      "outputs": [
        {
          "output_type": "stream",
          "text": "_________________________________________________________________\nLayer (type)                 Output Shape              Param #   \n=================================================================\ninception_v3 (Model)         (None, 3, 3, 2048)        21802784  \n_________________________________________________________________\nflatten_1 (Flatten)          (None, 18432)             0         \n_________________________________________________________________\ndense_1 (Dense)              (None, 256)               4718848   \n=================================================================\nTotal params: 26,521,632\nTrainable params: 26,487,200\nNon-trainable params: 34,432\n_________________________________________________________________\n",
          "name": "stdout"
        }
      ]
    },
    {
      "metadata": {
        "trusted": true,
        "_uuid": "5e95d107c965666587534c51e958c1c52506a728",
        "scrolled": true
      },
      "cell_type": "code",
      "source": "Y_pred = model.predict_generator(test_generator, steps=len(test_generator))\nY_pred.shape",
      "execution_count": 9,
      "outputs": [
        {
          "output_type": "execute_result",
          "execution_count": 9,
          "data": {
            "text/plain": "(192, 256)"
          },
          "metadata": {}
        }
      ]
    },
    {
      "metadata": {
        "trusted": true,
        "_uuid": "34500b2e1a080f3bc6f20f0dca223183c321056e"
      },
      "cell_type": "code",
      "source": "Y_pred[0]",
      "execution_count": 10,
      "outputs": [
        {
          "output_type": "execute_result",
          "execution_count": 10,
          "data": {
            "text/plain": "array([0.86030143, 0.25368086, 0.        , 0.        , 0.        ,\n       1.8430527 , 0.        , 0.8065416 , 0.        , 0.        ,\n       0.3451592 , 0.        , 0.2177728 , 0.1096791 , 0.42762855,\n       0.8924445 , 0.22246793, 0.        , 0.48486608, 0.6663816 ,\n       0.        , 0.        , 1.0613769 , 0.        , 0.        ,\n       0.        , 0.        , 0.04277001, 0.        , 0.        ,\n       1.2557236 , 0.63920736, 1.5203717 , 0.14100954, 0.06449225,\n       0.        , 0.9580913 , 0.        , 0.        , 0.24594076,\n       0.48679522, 2.0928984 , 1.3858095 , 0.        , 0.26448023,\n       0.80857086, 0.        , 0.        , 0.81513304, 0.45391113,\n       0.03737286, 0.        , 0.97303545, 1.1607223 , 0.23136562,\n       1.7213186 , 1.5641063 , 0.        , 0.44839963, 0.2114612 ,\n       0.9337481 , 0.4260696 , 1.6960262 , 0.        , 0.        ,\n       0.15801002, 0.99531984, 0.15861118, 0.        , 0.        ,\n       0.        , 0.        , 0.25853863, 1.0685432 , 0.8200853 ,\n       0.7554727 , 0.8981154 , 0.22748512, 0.0367853 , 0.        ,\n       0.        , 0.8591838 , 1.1516055 , 0.        , 0.        ,\n       0.8599233 , 0.1057447 , 0.20076764, 0.3915841 , 0.        ,\n       0.87753624, 0.        , 0.        , 0.64874834, 0.5283133 ,\n       0.        , 0.        , 0.        , 0.        , 0.44912118,\n       0.        , 0.6415718 , 0.6639031 , 0.63167995, 0.6796228 ,\n       0.05569407, 0.13988847, 0.        , 0.32982317, 1.3408054 ,\n       0.49170604, 0.1020721 , 1.0758467 , 0.        , 0.47235805,\n       0.        , 0.        , 0.        , 0.        , 0.841998  ,\n       0.        , 0.95169085, 1.2353913 , 0.        , 0.10619356,\n       0.        , 0.        , 1.0183276 , 0.5628552 , 0.1936218 ,\n       0.25009832, 1.3747109 , 0.6168905 , 0.28876233, 1.4749361 ,\n       0.        , 0.        , 0.        , 0.58710575, 0.39031106,\n       0.3743403 , 0.        , 0.7439068 , 0.10642611, 0.944871  ,\n       0.        , 0.        , 0.        , 0.61116356, 0.10352837,\n       0.10519836, 0.        , 0.04789603, 0.8912334 , 0.92543566,\n       0.        , 0.        , 1.3444831 , 0.8050234 , 0.18864444,\n       0.        , 0.        , 0.27451155, 0.        , 0.722028  ,\n       0.39855173, 0.        , 0.7197336 , 0.5705171 , 0.        ,\n       0.0488236 , 0.66722107, 0.        , 0.7300318 , 0.51669806,\n       0.        , 0.20278914, 0.        , 0.13187446, 0.4028946 ,\n       1.3522567 , 0.8666373 , 0.5973826 , 0.3745542 , 0.6106939 ,\n       1.22723   , 0.45426518, 0.        , 0.        , 0.00858317,\n       0.6284281 , 0.67341113, 1.2893997 , 0.        , 0.        ,\n       0.        , 0.        , 0.        , 0.5618772 , 0.        ,\n       0.        , 0.        , 1.2012091 , 0.06133725, 0.        ,\n       0.        , 1.7266593 , 0.        , 0.9549412 , 0.        ,\n       0.        , 0.32382533, 1.0616452 , 0.        , 0.        ,\n       0.2947813 , 0.        , 1.0187818 , 0.        , 0.        ,\n       0.        , 0.07543982, 0.        , 0.        , 0.72587395,\n       0.        , 1.0372183 , 0.        , 0.8584731 , 0.6138479 ,\n       1.2919928 , 1.1319718 , 0.97318095, 1.9684833 , 1.4498999 ,\n       0.26674354, 0.9033098 , 0.6790615 , 1.2543032 , 0.        ,\n       0.5279316 , 0.        , 0.        , 0.61668026, 0.        ,\n       0.82040197, 0.4424672 , 0.6511749 , 0.47111225, 0.11772715,\n       1.2028488 , 0.5653384 , 0.15839227, 1.1370369 , 0.        ,\n       0.50419545], dtype=float32)"
          },
          "metadata": {}
        }
      ]
    },
    {
      "metadata": {
        "trusted": true,
        "_uuid": "9982cfd780e4ccfdaf6c4b2ae9f1c82836b2f744"
      },
      "cell_type": "code",
      "source": "",
      "execution_count": null,
      "outputs": []
    }
  ],
  "metadata": {
    "kernelspec": {
      "display_name": "Python 3",
      "language": "python",
      "name": "python3"
    },
    "language_info": {
      "name": "python",
      "version": "3.6.6",
      "mimetype": "text/x-python",
      "codemirror_mode": {
        "name": "ipython",
        "version": 3
      },
      "pygments_lexer": "ipython3",
      "nbconvert_exporter": "python",
      "file_extension": ".py"
    }
  },
  "nbformat": 4,
  "nbformat_minor": 1
}