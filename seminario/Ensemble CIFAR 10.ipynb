{
  "cells": [
    {
      "metadata": {
        "_uuid": "8f2839f25d086af736a60e9eeb907d3b93b6e0e5",
        "_cell_guid": "b1076dfc-b9ad-4769-8c92-a6c4dae69d19",
        "trusted": true
      },
      "cell_type": "code",
      "source": "from keras.models import Model, Input\nfrom keras.layers import Conv2D, MaxPooling2D, GlobalAveragePooling2D, Dropout, Activation, Average\nfrom keras.utils import to_categorical\nfrom keras.losses import categorical_crossentropy\nfrom keras.callbacks import ModelCheckpoint, TensorBoard\nfrom keras.optimizers import Adam\nfrom keras.datasets import cifar10\n\nimport numpy as np",
      "execution_count": 1,
      "outputs": [
        {
          "output_type": "stream",
          "text": "Using TensorFlow backend.\n",
          "name": "stderr"
        }
      ]
    },
    {
      "metadata": {
        "_cell_guid": "79c7e3d0-c299-4dcb-8224-4455121ee9b0",
        "_uuid": "d629ff2d2480ee46fbb7e2d37f6b5fab8052498a",
        "trusted": true
      },
      "cell_type": "code",
      "source": "(x_train, y_train), (x_test, y_test) = cifar10.load_data()\nx_train = x_train / 255.\nx_test = x_test / 255.\ny_train = to_categorical(y_train, num_classes=10)",
      "execution_count": 2,
      "outputs": [
        {
          "output_type": "stream",
          "text": "Downloading data from https://www.cs.toronto.edu/~kriz/cifar-10-python.tar.gz\n170500096/170498071 [==============================] - 3s 0us/step\n",
          "name": "stdout"
        }
      ]
    },
    {
      "metadata": {
        "trusted": true,
        "_uuid": "5c666c0d2aac7f3991ec701d0a55daebeefd0789"
      },
      "cell_type": "code",
      "source": "print('x_train shape: {} | y_train shape: {}\\nx_test shape : {} | y_test shape : {}'.format(\n    x_train.shape, y_train.shape,x_test.shape, y_test.shape))",
      "execution_count": 3,
      "outputs": [
        {
          "output_type": "stream",
          "text": "x_train shape: (50000, 32, 32, 3) | y_train shape: (50000, 10)\nx_test shape : (10000, 32, 32, 3) | y_test shape : (10000, 1)\n",
          "name": "stdout"
        }
      ]
    },
    {
      "metadata": {
        "trusted": true,
        "_uuid": "9e446c0458862c9fe7f3d83eb217e7dd158e73ce"
      },
      "cell_type": "code",
      "source": "input_shape = x_train[0,:,:,:].shape\nmodel_input = Input(shape=input_shape)",
      "execution_count": 4,
      "outputs": []
    },
    {
      "metadata": {
        "_uuid": "a0d7c1abec7a102bd1be5ab8cdc403c8ea411eea"
      },
      "cell_type": "markdown",
      "source": "## First model: ConvPool-CNN-C"
    },
    {
      "metadata": {
        "trusted": true,
        "_uuid": "fb274fd5654b89563c672040800105e52658f25d"
      },
      "cell_type": "code",
      "source": "def conv_pool_cnn(model_input):\n    \n    x = Conv2D(96, kernel_size=(3, 3), activation='relu', padding = 'same')(model_input)\n    x = Conv2D(96, (3, 3), activation='relu', padding = 'same')(x)\n    x = Conv2D(96, (3, 3), activation='relu', padding = 'same')(x)\n    x = MaxPooling2D(pool_size=(3, 3), strides = 2)(x)\n    x = Conv2D(192, (3, 3), activation='relu', padding = 'same')(x)\n    x = Conv2D(192, (3, 3), activation='relu', padding = 'same')(x)\n    x = Conv2D(192, (3, 3), activation='relu', padding = 'same')(x)\n    x = MaxPooling2D(pool_size=(3, 3), strides = 2)(x)\n    x = Conv2D(192, (3, 3), activation='relu', padding = 'same')(x)\n    x = Conv2D(192, (1, 1), activation='relu')(x)\n    x = Conv2D(10, (1, 1))(x)\n    x = GlobalAveragePooling2D()(x)\n    x = Activation(activation='softmax')(x)\n    \n    model = Model(model_input, x, name='conv_pool_cnn')\n    \n    return model",
      "execution_count": 5,
      "outputs": []
    },
    {
      "metadata": {
        "trusted": true,
        "_uuid": "16c1588b41999ae5975d809a7513d432abfcc2e6"
      },
      "cell_type": "code",
      "source": "conv_pool_cnn_model = conv_pool_cnn(model_input)",
      "execution_count": 16,
      "outputs": []
    },
    {
      "metadata": {
        "trusted": true,
        "_uuid": "96a3915cb0eccda3b1dd669b568fc7ca9cfeecc8"
      },
      "cell_type": "code",
      "source": "def compile_and_train(model, num_epochs): \n    \n    model.compile(loss=categorical_crossentropy, optimizer=Adam(), metrics=['acc']) \n    history = model.fit(x=x_train, y=y_train, batch_size=32, \n                     epochs=num_epochs, verbose=1, validation_split=0.2)\n    return model",
      "execution_count": 17,
      "outputs": []
    },
    {
      "metadata": {
        "trusted": true,
        "_uuid": "963fa3733835a07f803a29b6af5669bb734076d3"
      },
      "cell_type": "code",
      "source": "model01 = compile_and_train(conv_pool_cnn_model, num_epochs=10)",
      "execution_count": 18,
      "outputs": [
        {
          "output_type": "stream",
          "text": "Train on 40000 samples, validate on 10000 samples\nEpoch 1/10\n40000/40000 [==============================] - 58s 1ms/step - loss: 2.3028 - acc: 0.0995 - val_loss: 2.3028 - val_acc: 0.0980\nEpoch 2/10\n40000/40000 [==============================] - 57s 1ms/step - loss: 2.3028 - acc: 0.0993 - val_loss: 2.3028 - val_acc: 0.0952\nEpoch 3/10\n40000/40000 [==============================] - 57s 1ms/step - loss: 2.3028 - acc: 0.0965 - val_loss: 2.3028 - val_acc: 0.0952\nEpoch 4/10\n40000/40000 [==============================] - 57s 1ms/step - loss: 2.3028 - acc: 0.0983 - val_loss: 2.3028 - val_acc: 0.0952\nEpoch 5/10\n40000/40000 [==============================] - 57s 1ms/step - loss: 2.3028 - acc: 0.0977 - val_loss: 2.3027 - val_acc: 0.1014\nEpoch 6/10\n40000/40000 [==============================] - 57s 1ms/step - loss: 2.3028 - acc: 0.0995 - val_loss: 2.3028 - val_acc: 0.0952\nEpoch 7/10\n40000/40000 [==============================] - 57s 1ms/step - loss: 2.3028 - acc: 0.1008 - val_loss: 2.3027 - val_acc: 0.0997\nEpoch 8/10\n40000/40000 [==============================] - 57s 1ms/step - loss: 2.3028 - acc: 0.0976 - val_loss: 2.3028 - val_acc: 0.0952\nEpoch 9/10\n40000/40000 [==============================] - 57s 1ms/step - loss: 2.3028 - acc: 0.0987 - val_loss: 2.3027 - val_acc: 0.0997\nEpoch 10/10\n40000/40000 [==============================] - 57s 1ms/step - loss: 2.3028 - acc: 0.0978 - val_loss: 2.3027 - val_acc: 0.0952\n",
          "name": "stdout"
        }
      ]
    },
    {
      "metadata": {
        "trusted": true,
        "_uuid": "cd25c6e7d01ec624b4dc56d084491bfe7bebd07e"
      },
      "cell_type": "code",
      "source": "def evaluate_error(model):\n    pred = model.predict(x_test, batch_size = 32)\n    pred = np.argmax(pred, axis=1)\n    pred = np.expand_dims(pred, axis=1) # make same shape as y_test\n    error = np.sum(np.not_equal(pred, y_test)) / y_test.shape[0]    \n    return error",
      "execution_count": 19,
      "outputs": []
    },
    {
      "metadata": {
        "trusted": true,
        "_uuid": "05ae8eeec5d30070e7b040fc9409e909f7bbb683"
      },
      "cell_type": "code",
      "source": "evaluate_error(conv_pool_cnn_model)",
      "execution_count": 20,
      "outputs": [
        {
          "output_type": "execute_result",
          "execution_count": 20,
          "data": {
            "text/plain": "0.9"
          },
          "metadata": {}
        }
      ]
    },
    {
      "metadata": {
        "_uuid": "f21627a77b5433f3e586c4606dd099f75a3f7a69"
      },
      "cell_type": "markdown",
      "source": "## Second model: ALL-CNN-C"
    },
    {
      "metadata": {
        "trusted": true,
        "_uuid": "45bbdba37bec9d169e1f7fef6ccb3321bdeb5a8c"
      },
      "cell_type": "code",
      "source": "def all_cnn(model_input):\n    \n    x = Conv2D(96, kernel_size=(3, 3), activation='relu', padding = 'same')(model_input)\n    x = Conv2D(96, (3, 3), activation='relu', padding = 'same')(x)\n    x = Conv2D(96, (3, 3), activation='relu', padding = 'same', strides = 2)(x)\n    x = Conv2D(192, (3, 3), activation='relu', padding = 'same')(x)\n    x = Conv2D(192, (3, 3), activation='relu', padding = 'same')(x)\n    x = Conv2D(192, (3, 3), activation='relu', padding = 'same', strides = 2)(x)\n    x = Conv2D(192, (3, 3), activation='relu', padding = 'same')(x)\n    x = Conv2D(192, (1, 1), activation='relu')(x)\n    x = Conv2D(10, (1, 1))(x)\n    x = GlobalAveragePooling2D()(x)\n    x = Activation(activation='softmax')(x)\n        \n    model = Model(model_input, x, name='all_cnn')\n    \n    return model",
      "execution_count": 21,
      "outputs": []
    },
    {
      "metadata": {
        "trusted": true,
        "_uuid": "4d4abaf9c6bae3212ef3a8ce6fa91a1bb3f85b32"
      },
      "cell_type": "code",
      "source": "all_cnn_model = all_cnn(model_input)",
      "execution_count": 22,
      "outputs": []
    },
    {
      "metadata": {
        "trusted": true,
        "_uuid": "b5ae97ebfae75139485422eea4c5c57ca1c191c6"
      },
      "cell_type": "code",
      "source": "model02 = compile_and_train(all_cnn_model, num_epochs=10)",
      "execution_count": 23,
      "outputs": [
        {
          "output_type": "stream",
          "text": "Train on 40000 samples, validate on 10000 samples\nEpoch 1/10\n40000/40000 [==============================] - 55s 1ms/step - loss: 1.8100 - acc: 0.3086 - val_loss: 1.5588 - val_acc: 0.4049\nEpoch 2/10\n40000/40000 [==============================] - 54s 1ms/step - loss: 1.3487 - acc: 0.5019 - val_loss: 1.1818 - val_acc: 0.5643\nEpoch 3/10\n40000/40000 [==============================] - 54s 1ms/step - loss: 1.0658 - acc: 0.6142 - val_loss: 0.9526 - val_acc: 0.6585\nEpoch 4/10\n40000/40000 [==============================] - 54s 1ms/step - loss: 0.8837 - acc: 0.6854 - val_loss: 0.8499 - val_acc: 0.7049\nEpoch 5/10\n40000/40000 [==============================] - 54s 1ms/step - loss: 0.7520 - acc: 0.7319 - val_loss: 0.7843 - val_acc: 0.7279\nEpoch 6/10\n40000/40000 [==============================] - 54s 1ms/step - loss: 0.6394 - acc: 0.7745 - val_loss: 0.7728 - val_acc: 0.7321\nEpoch 7/10\n40000/40000 [==============================] - 54s 1ms/step - loss: 0.5441 - acc: 0.8082 - val_loss: 0.7604 - val_acc: 0.7379\nEpoch 8/10\n40000/40000 [==============================] - 54s 1ms/step - loss: 0.4487 - acc: 0.8396 - val_loss: 0.7550 - val_acc: 0.7571\nEpoch 9/10\n40000/40000 [==============================] - 54s 1ms/step - loss: 0.3611 - acc: 0.8706 - val_loss: 0.7567 - val_acc: 0.7655\nEpoch 10/10\n40000/40000 [==============================] - 54s 1ms/step - loss: 0.2823 - acc: 0.8995 - val_loss: 0.8444 - val_acc: 0.7613\n",
          "name": "stdout"
        }
      ]
    },
    {
      "metadata": {
        "trusted": true,
        "_uuid": "bcf37f84a6608e646a235c1df0ee067873a22de4"
      },
      "cell_type": "code",
      "source": "evaluate_error(all_cnn_model)",
      "execution_count": 24,
      "outputs": [
        {
          "output_type": "execute_result",
          "execution_count": 24,
          "data": {
            "text/plain": "0.2491"
          },
          "metadata": {}
        }
      ]
    },
    {
      "metadata": {
        "_uuid": "cf5a6098497e7ad2de5732c908affd900b0c813b"
      },
      "cell_type": "markdown",
      "source": "## Third Model: Network In Network CNN"
    },
    {
      "metadata": {
        "trusted": true,
        "_uuid": "48d534bda159e59cdd8e894fa0d0767051cf9ad2"
      },
      "cell_type": "code",
      "source": "def nin_cnn(model_input):\n    \n    #mlpconv block 1\n    x = Conv2D(32, (5, 5), activation='relu',padding='valid')(model_input)\n    x = Conv2D(32, (1, 1), activation='relu')(x)\n    x = Conv2D(32, (1, 1), activation='relu')(x)\n    x = MaxPooling2D((2,2))(x)\n    x = Dropout(0.5)(x)\n    \n    #mlpconv block2\n    x = Conv2D(64, (3, 3), activation='relu',padding='valid')(x)\n    x = Conv2D(64, (1, 1), activation='relu')(x)\n    x = Conv2D(64, (1, 1), activation='relu')(x)\n    x = MaxPooling2D((2,2))(x)\n    x = Dropout(0.5)(x)\n    \n    #mlpconv block3\n    x = Conv2D(128, (3, 3), activation='relu',padding='valid')(x)\n    x = Conv2D(32, (1, 1), activation='relu')(x)\n    x = Conv2D(10, (1, 1))(x)\n    \n    x = GlobalAveragePooling2D()(x)\n    x = Activation(activation='softmax')(x)\n    \n    model = Model(model_input, x, name='nin_cnn')\n    \n    return model",
      "execution_count": 25,
      "outputs": []
    },
    {
      "metadata": {
        "trusted": true,
        "_uuid": "3832ad1cacb1fbc307b207d186dd38f21d890884"
      },
      "cell_type": "code",
      "source": "nin_cnn_model = nin_cnn(model_input)",
      "execution_count": 26,
      "outputs": []
    },
    {
      "metadata": {
        "trusted": true,
        "_uuid": "ca70b43c206096d2fc1925b367c77a5a0bc55bb1"
      },
      "cell_type": "code",
      "source": "model03 = compile_and_train(nin_cnn_model, num_epochs=10)",
      "execution_count": 27,
      "outputs": [
        {
          "output_type": "stream",
          "text": "Train on 40000 samples, validate on 10000 samples\nEpoch 1/10\n40000/40000 [==============================] - 17s 415us/step - loss: 1.8804 - acc: 0.2838 - val_loss: 1.6992 - val_acc: 0.3696\nEpoch 2/10\n40000/40000 [==============================] - 15s 387us/step - loss: 1.5874 - acc: 0.4088 - val_loss: 1.4558 - val_acc: 0.4677\nEpoch 3/10\n40000/40000 [==============================] - 16s 388us/step - loss: 1.4683 - acc: 0.4587 - val_loss: 1.4791 - val_acc: 0.4570\nEpoch 4/10\n40000/40000 [==============================] - 16s 388us/step - loss: 1.3852 - acc: 0.4951 - val_loss: 1.3127 - val_acc: 0.5279\nEpoch 5/10\n40000/40000 [==============================] - 16s 388us/step - loss: 1.3206 - acc: 0.5203 - val_loss: 1.2754 - val_acc: 0.5482\nEpoch 6/10\n40000/40000 [==============================] - 15s 387us/step - loss: 1.2611 - acc: 0.5488 - val_loss: 1.1526 - val_acc: 0.5875\nEpoch 7/10\n40000/40000 [==============================] - 15s 387us/step - loss: 1.2151 - acc: 0.5654 - val_loss: 1.1980 - val_acc: 0.5747\nEpoch 8/10\n40000/40000 [==============================] - 16s 388us/step - loss: 1.1704 - acc: 0.5827 - val_loss: 1.0819 - val_acc: 0.6167\nEpoch 9/10\n40000/40000 [==============================] - 16s 394us/step - loss: 1.1389 - acc: 0.5941 - val_loss: 1.0426 - val_acc: 0.6325\nEpoch 10/10\n40000/40000 [==============================] - 16s 396us/step - loss: 1.1063 - acc: 0.6047 - val_loss: 1.0189 - val_acc: 0.6420\n",
          "name": "stdout"
        }
      ]
    },
    {
      "metadata": {
        "trusted": true,
        "_uuid": "0eabd0f9f8c50f945341ccde1602ed690fe200ba"
      },
      "cell_type": "code",
      "source": "evaluate_error(nin_cnn_model)",
      "execution_count": 28,
      "outputs": [
        {
          "output_type": "execute_result",
          "execution_count": 28,
          "data": {
            "text/plain": "0.3611"
          },
          "metadata": {}
        }
      ]
    },
    {
      "metadata": {
        "_uuid": "66defee7fc4dfe91fefd1cf57ac8a20047c61403"
      },
      "cell_type": "markdown",
      "source": "## Ensemble"
    },
    {
      "metadata": {
        "trusted": true,
        "_uuid": "ef5172c8d668e3e12b7bedc623a360b4b73dbc1c"
      },
      "cell_type": "code",
      "source": "models = []\nmodels.append(model01)\nmodels.append(model02)\nmodels.append(model03)",
      "execution_count": 29,
      "outputs": []
    },
    {
      "metadata": {
        "trusted": true,
        "_uuid": "0ba59e74e70ffac12949a2b9587b24513445beb6"
      },
      "cell_type": "code",
      "source": "def ensemble(models, model_input):\n    \n    outputs = [model.outputs[0] for model in models]\n    y = Average()(outputs)\n    \n    model = Model(model_input, y, name='ensemble')\n    \n    return model",
      "execution_count": 30,
      "outputs": []
    },
    {
      "metadata": {
        "trusted": true,
        "_uuid": "1fb3e3637eb2252a85bd6d2327ec75c0c1a5726e"
      },
      "cell_type": "code",
      "source": "ensemble_model = ensemble(models, model_input)",
      "execution_count": 31,
      "outputs": []
    },
    {
      "metadata": {
        "trusted": true,
        "_uuid": "c0e5fa24310c0ca971e97f5434d026b0e9caba63"
      },
      "cell_type": "code",
      "source": "evaluate_error(ensemble_model)",
      "execution_count": 32,
      "outputs": [
        {
          "output_type": "execute_result",
          "execution_count": 32,
          "data": {
            "text/plain": "0.2379"
          },
          "metadata": {}
        }
      ]
    }
  ],
  "metadata": {
    "kernelspec": {
      "display_name": "Python 3",
      "language": "python",
      "name": "python3"
    },
    "language_info": {
      "name": "python",
      "version": "3.6.6",
      "mimetype": "text/x-python",
      "codemirror_mode": {
        "name": "ipython",
        "version": 3
      },
      "pygments_lexer": "ipython3",
      "nbconvert_exporter": "python",
      "file_extension": ".py"
    }
  },
  "nbformat": 4,
  "nbformat_minor": 1
}