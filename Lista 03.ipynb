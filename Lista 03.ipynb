{
  "cells": [
    {
      "metadata": {
        "_uuid": "8f2839f25d086af736a60e9eeb907d3b93b6e0e5",
        "_cell_guid": "b1076dfc-b9ad-4769-8c92-a6c4dae69d19",
        "trusted": true
      },
      "cell_type": "code",
      "source": "import numpy as np \nimport pandas as pd \nfrom keras import layers\nfrom keras import models\nfrom keras.utils import to_categorical\nimport matplotlib.pyplot as plt\nfrom os import listdir, makedirs\nimport numpy as np\nfrom keras.preprocessing.image import ImageDataGenerator\nfrom keras.applications import InceptionResNetV2\nfrom keras.models import Sequential\nfrom keras.layers import Dense, Flatten, Dropout\nfrom keras import optimizers, regularizers\nfrom keras import losses",
      "execution_count": 1,
      "outputs": [
        {
          "output_type": "stream",
          "text": "Using TensorFlow backend.\n",
          "name": "stderr"
        }
      ]
    },
    {
      "metadata": {
        "_cell_guid": "79c7e3d0-c299-4dcb-8224-4455121ee9b0",
        "_uuid": "d629ff2d2480ee46fbb7e2d37f6b5fab8052498a",
        "trusted": true
      },
      "cell_type": "code",
      "source": "RESOLUTION = 197\nBATCH_SIZE = 20",
      "execution_count": 2,
      "outputs": []
    },
    {
      "metadata": {
        "trusted": true,
        "_uuid": "d7fa5074b1ad1036373f8c6ee3481a0d1f24fd6c"
      },
      "cell_type": "code",
      "source": "train_datagen = ImageDataGenerator(rescale=1./255, validation_split=0.3)\nval_datagen = ImageDataGenerator(rescale=1./255, validation_split=0.3)\n\ntrain_generator = train_datagen.flow_from_directory(\n        \"../input/state-farm-distracted-driver-detection/train/\",\n        target_size=(RESOLUTION, RESOLUTION),\n        batch_size=BATCH_SIZE,\n        class_mode='categorical', subset=\"training\")\n\nval_generator = val_datagen.flow_from_directory(\n        \"../input/state-farm-distracted-driver-detection/train/\",\n        target_size=(RESOLUTION, RESOLUTION),\n        batch_size=BATCH_SIZE,\n        class_mode='categorical', subset=\"validation\")",
      "execution_count": 3,
      "outputs": [
        {
          "output_type": "stream",
          "text": "Found 15702 images belonging to 10 classes.\nFound 6722 images belonging to 10 classes.\n",
          "name": "stdout"
        }
      ]
    },
    {
      "metadata": {
        "trusted": true,
        "_uuid": "b03e0084dd812fa22cc965706e4126c790655b2d"
      },
      "cell_type": "code",
      "source": "path = \"../input/keras-pretrained-models/inception_resnet_v2_weights_tf_dim_ordering_tf_kernels_notop.h5\"\nconv_base = InceptionResNetV2(include_top=False, input_shape=(RESOLUTION, RESOLUTION, 3), weights=path)",
      "execution_count": 4,
      "outputs": []
    },
    {
      "metadata": {
        "trusted": true,
        "_uuid": "b2dfd40f0920cf8cad3ef8cec8f83e9f1174b182"
      },
      "cell_type": "code",
      "source": "def inceptionv2_pretrained_model(model_inception, dropout_=False, regularizer_=False, regularizer_weight=0.001):\n    model = Sequential()\n    model.add(model_inception)\n    model.add(Flatten())\n    if dropout_:\n        model.add(Dropout(0.5))\n    if regularizer_:\n        model.add(Dense(256, activation='relu', kernel_regularizer=regularizers.l1_l2(l1=regularizer_weight,\n                                                                                            l2=regularizer_weight)))\n    else:\n        model.add(Dense(256, activation='relu'))\n    model.add(Dense(10, activation='softmax'))\n    model.summary()\n    model.compile(loss=losses.poisson, optimizer=optimizers.Nadam(lr=1e-5), metrics=['acc'])\n\n    return model",
      "execution_count": 5,
      "outputs": []
    },
    {
      "metadata": {
        "trusted": true,
        "_uuid": "48b2aa6a4e4be701b296b48d013600459d9cf5b5"
      },
      "cell_type": "code",
      "source": "model = inceptionv2_pretrained_model(conv_base, dropout_=False, regularizer_=False, regularizer_weight=0.001)",
      "execution_count": 6,
      "outputs": [
        {
          "output_type": "stream",
          "text": "_________________________________________________________________\nLayer (type)                 Output Shape              Param #   \n=================================================================\ninception_resnet_v2 (Model)  (None, 4, 4, 1536)        54336736  \n_________________________________________________________________\nflatten_1 (Flatten)          (None, 24576)             0         \n_________________________________________________________________\ndense_1 (Dense)              (None, 256)               6291712   \n_________________________________________________________________\ndense_2 (Dense)              (None, 10)                2570      \n=================================================================\nTotal params: 60,631,018\nTrainable params: 60,570,474\nNon-trainable params: 60,544\n_________________________________________________________________\n",
          "name": "stdout"
        }
      ]
    },
    {
      "metadata": {
        "trusted": true,
        "_uuid": "8b3e99bed30e54ee432114a152ebfdb65b1e7b9c"
      },
      "cell_type": "code",
      "source": "N_TRAIN = 15702\nN_VAL = 6722\nhistory = model.fit_generator(\n        train_generator,\n        steps_per_epoch=(N_TRAIN // BATCH_SIZE),\n        epochs=10,\n        validation_data=val_generator,\n        validation_steps=(N_VAL // BATCH_SIZE) \n    )",
      "execution_count": 7,
      "outputs": [
        {
          "output_type": "stream",
          "text": "Epoch 1/10\n785/785 [==============================] - 995s 1s/step - loss: 0.1741 - acc: 0.7883 - val_loss: 0.1135 - val_acc: 0.9717\nEpoch 2/10\n785/785 [==============================] - 926s 1s/step - loss: 0.1057 - acc: 0.9894 - val_loss: 0.1061 - val_acc: 0.9864\nEpoch 3/10\n785/785 [==============================] - 920s 1s/step - loss: 0.1018 - acc: 0.9969 - val_loss: 0.1035 - val_acc: 0.9912\nEpoch 4/10\n785/785 [==============================] - 920s 1s/step - loss: 0.1014 - acc: 0.9980 - val_loss: 0.1030 - val_acc: 0.9930\nEpoch 5/10\n785/785 [==============================] - 921s 1s/step - loss: 0.1007 - acc: 0.9982 - val_loss: 0.1045 - val_acc: 0.9858\nEpoch 6/10\n785/785 [==============================] - 920s 1s/step - loss: 0.1005 - acc: 0.9990 - val_loss: 0.1022 - val_acc: 0.9948\nEpoch 7/10\n785/785 [==============================] - 922s 1s/step - loss: 0.1002 - acc: 0.9999 - val_loss: 0.1026 - val_acc: 0.9927\nEpoch 8/10\n785/785 [==============================] - 923s 1s/step - loss: 0.1006 - acc: 0.9982 - val_loss: 0.1029 - val_acc: 0.9913\nEpoch 9/10\n785/785 [==============================] - 927s 1s/step - loss: 0.1004 - acc: 0.9993 - val_loss: 0.1022 - val_acc: 0.9945\nEpoch 10/10\n785/785 [==============================] - 929s 1s/step - loss: 0.1007 - acc: 0.9986 - val_loss: 0.1033 - val_acc: 0.9900\n",
          "name": "stdout"
        }
      ]
    },
    {
      "metadata": {
        "trusted": true,
        "_uuid": "84c4e892d4b4a9902b036917d0046593e74b66d6"
      },
      "cell_type": "code",
      "source": "history.params",
      "execution_count": 8,
      "outputs": [
        {
          "output_type": "execute_result",
          "execution_count": 8,
          "data": {
            "text/plain": "{'epochs': 10,\n 'steps': 785,\n 'verbose': 1,\n 'do_validation': True,\n 'metrics': ['loss', 'acc', 'val_loss', 'val_acc']}"
          },
          "metadata": {}
        }
      ]
    },
    {
      "metadata": {
        "trusted": true,
        "_uuid": "18f49f17ee7f2810041621d5748320cac95685f5"
      },
      "cell_type": "code",
      "source": "acc = history.history['acc']\nval_acc = history.history['val_acc']\nloss = history.history['loss']\nval_loss = history.history['val_loss']\n\nepochs = range(1, len(acc) + 1)\n\nplt.plot(epochs, acc, 'bo', label='Training acc')\nplt.plot(epochs, val_acc, 'b', label='Validation acc')\nplt.title('Training and validation accuracy')\nplt.legend(loc='best')\n\nplt.figure()\nplt.plot(epochs, loss, 'bo', label='Training loss')\nplt.plot(epochs, val_loss, 'b', label='Validation loss')\nplt.title('Training and validation loss')\nplt.legend(loc='best')",
      "execution_count": 9,
      "outputs": [
        {
          "output_type": "execute_result",
          "execution_count": 9,
          "data": {
            "text/plain": "<matplotlib.legend.Legend at 0x7f555e40bcc0>"
          },
          "metadata": {}
        },
        {
          "output_type": "display_data",
          "data": {
            "text/plain": "<Figure size 432x288 with 1 Axes>",
            "image/png": "[encoded data removed]"
          },
          "metadata": {
            "needs_background": "light"
          }
        },
        {
          "output_type": "display_data",
          "data": {
            "text/plain": "<Figure size 432x288 with 1 Axes>",
            "image/png": "[encoded data removed]"
          },
          "metadata": {
            "needs_background": "light"
          }
        }
      ]
    },
    {
      "metadata": {
        "trusted": true,
        "_uuid": "f6699e687dfdb945c8fabb9d66099aa8e1b6f664"
      },
      "cell_type": "code",
      "source": "",
      "execution_count": null,
      "outputs": []
    }
  ],
  "metadata": {
    "kernelspec": {
      "display_name": "Python 3",
      "language": "python",
      "name": "python3"
    },
    "language_info": {
      "name": "python",
      "version": "3.6.6",
      "mimetype": "text/x-python",
      "codemirror_mode": {
        "name": "ipython",
        "version": 3
      },
      "pygments_lexer": "ipython3",
      "nbconvert_exporter": "python",
      "file_extension": ".py"
    }
  },
  "nbformat": 4,
  "nbformat_minor": 1
}