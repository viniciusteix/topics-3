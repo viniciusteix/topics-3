{
  "cells": [
    {
      "metadata": {
        "trusted": true,
        "_uuid": "b2298451bc9fc4f6298a932557b23c4658a7aa37"
      },
      "cell_type": "code",
      "source": "%matplotlib inline\n\nfrom matplotlib import pyplot as plt\n\nimport numpy as np\nimport pandas as pd\n\nfrom sklearn import model_selection\nfrom sklearn import preprocessing\nfrom sklearn.feature_extraction.text import CountVectorizer\nfrom sklearn.feature_extraction.text import TfidfTransformer\nfrom sklearn.neural_network import MLPClassifier\n\nfrom keras.preprocessing import sequence\nfrom keras.preprocessing.text import Tokenizer\nfrom keras.models import Model, Sequential\nfrom keras.layers import LSTM, Activation, Dense, Dropout, Input, Embedding, SimpleRNN, Flatten, Conv1D, GlobalMaxPooling1D\nfrom keras import optimizers\n\nimport os\n\nimport re\nfrom nltk.corpus import stopwords\nfrom nltk.stem import PorterStemmer\n\nimport warnings\nwarnings.filterwarnings(\"ignore\")",
      "execution_count": 1,
      "outputs": [
        {
          "output_type": "stream",
          "text": "Using TensorFlow backend.\n",
          "name": "stderr"
        }
      ]
    },
    {
      "metadata": {
        "_uuid": "d00902944bb330a6ed0b482750949ecc4ae71f4e"
      },
      "cell_type": "markdown",
      "source": "## Questão 02"
    },
    {
      "metadata": {
        "_uuid": "9eea6ed2cbd1c99c6628d44184df94cccef69500"
      },
      "cell_type": "markdown",
      "source": "### item A)"
    },
    {
      "metadata": {
        "trusted": true,
        "_uuid": "feb4a52b02a0c4a75bc2e6a21696be4ca824782d"
      },
      "cell_type": "code",
      "source": "# Carregamento do csv\ndf = pd.read_csv('../input/Womens Clothing E-Commerce Reviews.csv',index_col='Unnamed: 0',usecols=['Unnamed: 0','Review Text','Rating'])",
      "execution_count": 2,
      "outputs": []
    },
    {
      "metadata": {
        "trusted": true,
        "_uuid": "ac023bdf6b7914217de8e344bed46e1599ee1d9c"
      },
      "cell_type": "code",
      "source": "# Uma amostra dos dados\ndf.head(5)",
      "execution_count": 3,
      "outputs": [
        {
          "output_type": "execute_result",
          "execution_count": 3,
          "data": {
            "text/plain": "                                         Review Text  Rating\n0  Absolutely wonderful - silky and sexy and comf...       4\n1  Love this dress!  it's sooo pretty.  i happene...       5\n2  I had such high hopes for this dress and reall...       3\n3  I love, love, love this jumpsuit. it's fun, fl...       5\n4  This shirt is very flattering to all due to th...       5",
            "text/html": "<div>\n<style scoped>\n    .dataframe tbody tr th:only-of-type {\n        vertical-align: middle;\n    }\n\n    .dataframe tbody tr th {\n        vertical-align: top;\n    }\n\n    .dataframe thead th {\n        text-align: right;\n    }\n</style>\n<table border=\"1\" class=\"dataframe\">\n  <thead>\n    <tr style=\"text-align: right;\">\n      <th></th>\n      <th>Review Text</th>\n      <th>Rating</th>\n    </tr>\n  </thead>\n  <tbody>\n    <tr>\n      <th>0</th>\n      <td>Absolutely wonderful - silky and sexy and comf...</td>\n      <td>4</td>\n    </tr>\n    <tr>\n      <th>1</th>\n      <td>Love this dress!  it's sooo pretty.  i happene...</td>\n      <td>5</td>\n    </tr>\n    <tr>\n      <th>2</th>\n      <td>I had such high hopes for this dress and reall...</td>\n      <td>3</td>\n    </tr>\n    <tr>\n      <th>3</th>\n      <td>I love, love, love this jumpsuit. it's fun, fl...</td>\n      <td>5</td>\n    </tr>\n    <tr>\n      <th>4</th>\n      <td>This shirt is very flattering to all due to th...</td>\n      <td>5</td>\n    </tr>\n  </tbody>\n</table>\n</div>"
          },
          "metadata": {}
        }
      ]
    },
    {
      "metadata": {
        "trusted": true,
        "_uuid": "158770ff47e5025956dd9092dad6fe1667ecccd6"
      },
      "cell_type": "code",
      "source": "# Dimensões do dataset\ndf.shape",
      "execution_count": 4,
      "outputs": [
        {
          "output_type": "execute_result",
          "execution_count": 4,
          "data": {
            "text/plain": "(23486, 2)"
          },
          "metadata": {}
        }
      ]
    },
    {
      "metadata": {
        "trusted": true,
        "_uuid": "1a5efeaaa7517399027c1a44269a977dd0e596fd"
      },
      "cell_type": "code",
      "source": "# Quantidade de textos\ndf['Review Text'].shape",
      "execution_count": 5,
      "outputs": [
        {
          "output_type": "execute_result",
          "execution_count": 5,
          "data": {
            "text/plain": "(23486,)"
          },
          "metadata": {}
        }
      ]
    },
    {
      "metadata": {
        "trusted": true,
        "_uuid": "68edb71dec04ccce84d04f56fd2e354631e11894"
      },
      "cell_type": "code",
      "source": "# Quantidade de classes existentes no problema\ndf['Rating'].unique().shape",
      "execution_count": 6,
      "outputs": [
        {
          "output_type": "execute_result",
          "execution_count": 6,
          "data": {
            "text/plain": "(5,)"
          },
          "metadata": {}
        }
      ]
    },
    {
      "metadata": {
        "trusted": true,
        "_uuid": "e28ec2d6b6b5fa8f2e51053bc132ee26ee6c82dc"
      },
      "cell_type": "code",
      "source": "# Classes existentes no problema\ndf['Rating'].unique()",
      "execution_count": 7,
      "outputs": [
        {
          "output_type": "execute_result",
          "execution_count": 7,
          "data": {
            "text/plain": "array([4, 5, 3, 2, 1])"
          },
          "metadata": {}
        }
      ]
    },
    {
      "metadata": {
        "trusted": true,
        "_uuid": "1fcf102db4005770db7b999d13273151b365102d"
      },
      "cell_type": "code",
      "source": "df.isnull().sum()",
      "execution_count": 8,
      "outputs": [
        {
          "output_type": "execute_result",
          "execution_count": 8,
          "data": {
            "text/plain": "Review Text    845\nRating           0\ndtype: int64"
          },
          "metadata": {}
        }
      ]
    },
    {
      "metadata": {
        "trusted": true,
        "_uuid": "4a14d3029c8a19d0b8b0e10916d41cc9b1b68e8a"
      },
      "cell_type": "code",
      "source": "df = df.dropna(how='any',axis=0)",
      "execution_count": 9,
      "outputs": []
    },
    {
      "metadata": {
        "trusted": true,
        "_uuid": "7b87d96641fac6521114c43d601fa55ca324c638"
      },
      "cell_type": "code",
      "source": "df.isnull().sum()",
      "execution_count": 10,
      "outputs": [
        {
          "output_type": "execute_result",
          "execution_count": 10,
          "data": {
            "text/plain": "Review Text    0\nRating         0\ndtype: int64"
          },
          "metadata": {}
        }
      ]
    },
    {
      "metadata": {
        "trusted": true,
        "_uuid": "0c9b621239344609804e85a3ad99d567ffba13da"
      },
      "cell_type": "code",
      "source": "X = df.iloc[:,0].values\ny = df.iloc[:,1].values",
      "execution_count": 11,
      "outputs": []
    },
    {
      "metadata": {
        "trusted": true,
        "_uuid": "ff6d2ed8c30b4da2a32d32b25c77edeaf5c34eca"
      },
      "cell_type": "code",
      "source": "le = preprocessing.LabelEncoder()",
      "execution_count": 12,
      "outputs": []
    },
    {
      "metadata": {
        "trusted": true,
        "_uuid": "6bcd373c242bd3eb27eb46ec024a9ed787ba6f91"
      },
      "cell_type": "code",
      "source": "y = le.fit_transform(y)",
      "execution_count": 13,
      "outputs": []
    },
    {
      "metadata": {
        "trusted": true,
        "_uuid": "d933b3d775027e6676b9cc1742307a89ce4502f1"
      },
      "cell_type": "code",
      "source": "X.shape",
      "execution_count": 14,
      "outputs": [
        {
          "output_type": "execute_result",
          "execution_count": 14,
          "data": {
            "text/plain": "(22641,)"
          },
          "metadata": {}
        }
      ]
    },
    {
      "metadata": {
        "trusted": true,
        "_uuid": "e190de90b2093d28b4da61a531e1bb9f5c55ca23"
      },
      "cell_type": "code",
      "source": "y.shape",
      "execution_count": 15,
      "outputs": [
        {
          "output_type": "execute_result",
          "execution_count": 15,
          "data": {
            "text/plain": "(22641,)"
          },
          "metadata": {}
        }
      ]
    },
    {
      "metadata": {
        "trusted": true,
        "_uuid": "b9ad073b7b52db0978c0e2897babe7d643b5a712"
      },
      "cell_type": "code",
      "source": "X[100]",
      "execution_count": 16,
      "outputs": [
        {
          "output_type": "execute_result",
          "execution_count": 16,
          "data": {
            "text/plain": "\"The fabric felt cheap and i didn't find it to be a flattering top. for reference i am wearing a medium in the photos and my measurements are 38-30-40.\""
          },
          "metadata": {}
        }
      ]
    },
    {
      "metadata": {
        "trusted": true,
        "_uuid": "5d5c53ddfd096d1bd9819ee5da5cab3c326b9d63"
      },
      "cell_type": "code",
      "source": "y[100]",
      "execution_count": 17,
      "outputs": [
        {
          "output_type": "execute_result",
          "execution_count": 17,
          "data": {
            "text/plain": "1"
          },
          "metadata": {}
        }
      ]
    },
    {
      "metadata": {
        "trusted": true,
        "_uuid": "ae0195e6df15c20ddd7c8dd944f111c709906539"
      },
      "cell_type": "code",
      "source": "def preprocessor(text):\n    text = re.sub('<[^>]*>', '', text)\n    emoticons = re.findall('(?::|;|=)(?:-)?(?:\\)|\\(|D|P)',\n                           text)\n    text = (re.sub('[\\W]+', ' ', text.lower()) +\n            ' '.join(emoticons).replace('-', ''))\n    return text",
      "execution_count": 18,
      "outputs": []
    },
    {
      "metadata": {
        "trusted": true,
        "_uuid": "adf68caa9e76621600c8bcafbcc13c1be7345bee"
      },
      "cell_type": "code",
      "source": "porter = PorterStemmer()\ndef tokenizer_porter(text):\n    return [porter.stem(word) for word in text.split()]",
      "execution_count": 19,
      "outputs": []
    },
    {
      "metadata": {
        "trusted": true,
        "_uuid": "c6ca0f7762d234ab577fec800ca9cc66db973e2d"
      },
      "cell_type": "code",
      "source": "stop = stopwords.words('english')",
      "execution_count": 20,
      "outputs": []
    },
    {
      "metadata": {
        "trusted": true,
        "_uuid": "d4f82e10890e43f6f91598f1698ede38e7977dbb"
      },
      "cell_type": "code",
      "source": "def preprocessing(texto):\n    texto = preprocessor(texto)\n    aux = [w for w in tokenizer_porter(texto) if w not in stop]\n    output = ''\n    output = output + aux[0]\n    for i in aux[1:]:\n        output = output + ' ' + i\n    return output",
      "execution_count": 21,
      "outputs": []
    },
    {
      "metadata": {
        "trusted": true,
        "_uuid": "7dfe3c8385c065b3db06b98a46cdb9d9ca07e5b8"
      },
      "cell_type": "code",
      "source": "for i in range(0,len(X)):\n    X[i] = preprocessing(X[i])",
      "execution_count": 22,
      "outputs": []
    },
    {
      "metadata": {
        "trusted": true,
        "_uuid": "09a8b27a68492888fa11bf2cb0d71b6ff66df1f1"
      },
      "cell_type": "code",
      "source": "X[100]",
      "execution_count": 23,
      "outputs": [
        {
          "output_type": "execute_result",
          "execution_count": 23,
          "data": {
            "text/plain": "'fabric felt cheap find flatter top refer wear medium photo measur 38 30 40'"
          },
          "metadata": {}
        }
      ]
    },
    {
      "metadata": {
        "trusted": true,
        "_uuid": "d92ff1e40b948b07a2f38d8bed74f92512f5344f"
      },
      "cell_type": "code",
      "source": "count = CountVectorizer()",
      "execution_count": 24,
      "outputs": []
    },
    {
      "metadata": {
        "trusted": true,
        "_uuid": "6ad216a28e69f0e86a2bf6e5328870d2a2f0a636"
      },
      "cell_type": "code",
      "source": "bag = count.fit_transform(X)",
      "execution_count": 25,
      "outputs": []
    },
    {
      "metadata": {
        "trusted": true,
        "_uuid": "db20ef8a3bd3ff0dbfcd9f7b4ce1995ada48ead4"
      },
      "cell_type": "code",
      "source": "tfidf = TfidfTransformer()",
      "execution_count": 26,
      "outputs": []
    },
    {
      "metadata": {
        "trusted": true,
        "_uuid": "ed87d63bf742a1a7b9ff12682c6669f6b1ffd47b"
      },
      "cell_type": "code",
      "source": "tf_v = tfidf.fit_transform(bag)",
      "execution_count": 27,
      "outputs": []
    },
    {
      "metadata": {
        "trusted": true,
        "_uuid": "788b6585a29c1adb659cc65cdd1c5f52f6ac6a8a"
      },
      "cell_type": "code",
      "source": "res_a = []\nfor i in range(0,5):\n    print('Texto: ', X[i])\n    print('TF-IDF: ', tf_v[i].data)\n    print('\\n----------------------------------\\n')",
      "execution_count": 28,
      "outputs": [
        {
          "output_type": "stream",
          "text": "Texto:  absolut wonder silki sexi comfort\nTF-IDF:  [0.39162531 0.44227076 0.56172223 0.51263852 0.2696221 ]\n\n----------------------------------\n\nTexto:  love thi dress sooo pretti happen find store glad bc never would order onlin bc petit bought petit 5 8 love length hit littl knee would definit true midi someon truli petit\nTF-IDF:  [0.14006787 0.04852079 0.08122661 0.26711943 0.12560115 0.22068163\n 0.15112677 0.12785379 0.17058347 0.49490515 0.18454059 0.19517107\n 0.09883138 0.13742185 0.38241549 0.11565722 0.11935315 0.15723491\n 0.10802322 0.16758936 0.14110878 0.13332796 0.25216678 0.18618393\n 0.21749268]\n\n----------------------------------\n\nTexto:  high hope thi dress realli want work initi order petit small usual size found thi outrag small small fact could zip reorder petit medium wa ok overal top half wa comfort fit nice bottom half veri tight layer sever somewhat cheap net layer imo major design flaw wa net layer sewn directli zipper c\nTF-IDF:  [0.0741413  0.06573459 0.05502175 0.06694697 0.17269521 0.10071619\n 0.10744924 0.07246208 0.08607879 0.07913223 0.16068548 0.20957013\n 0.07781766 0.05245194 0.10560227 0.23526924 0.14142912 0.0885247\n 0.14028826 0.17725489 0.08673672 0.154575   0.14085218 0.10820951\n 0.05915381 0.28598935 0.04772904 0.07291648 0.09796783 0.05589245\n 0.09126768 0.33141081 0.13241437 0.14413902 0.13193087 0.40384055\n 0.18460513 0.17983248 0.08982156 0.15220825 0.15064102 0.21339961\n 0.12971741]\n\n----------------------------------\n\nTexto:  love love love thi jumpsuit fun flirti fabul everi time wear get noth great compliment\nTF-IDF:  [0.34564034 0.07982199 0.35037492 0.27360582 0.4087262  0.35673164\n 0.28215663 0.23374376 0.13460668 0.20392561 0.32420845 0.14990782\n 0.24634796]\n\n----------------------------------\n\nTexto:  thi shirt veri flatter due adjust front tie perfect length wear leg sleeveless pair well ani cardigan love thi shirt\nTF-IDF:  [0.10636304 0.14738052 0.1812659  0.1253139  0.12426653 0.37240054\n 0.16097769 0.2923271  0.32835995 0.21923722 0.27231697 0.16136585\n 0.2169144  0.37013855 0.21946573 0.16817397 0.24516106 0.27608872]\n\n----------------------------------\n\n",
          "name": "stdout"
        }
      ]
    },
    {
      "metadata": {
        "_uuid": "7658b47919fca210ff0a34f220145c99fdbb5b85"
      },
      "cell_type": "markdown",
      "source": "### item B)"
    },
    {
      "metadata": {
        "trusted": true,
        "_uuid": "554d2d07f2399d1182095bf6388bc7cf87ea1614"
      },
      "cell_type": "code",
      "source": "X_data = tf_v.toarray()",
      "execution_count": 29,
      "outputs": []
    },
    {
      "metadata": {
        "trusted": true,
        "_uuid": "f4ffdf4d86528f04a3d3955e9f4d0506824a01cc"
      },
      "cell_type": "code",
      "source": "len(X_data)",
      "execution_count": 30,
      "outputs": [
        {
          "output_type": "execute_result",
          "execution_count": 30,
          "data": {
            "text/plain": "22641"
          },
          "metadata": {}
        }
      ]
    },
    {
      "metadata": {
        "trusted": true,
        "_uuid": "0041d413afcc5a64e56e11a14b75945d76e5d723"
      },
      "cell_type": "code",
      "source": "X_matrix, X_test, y_matrix, y_test = model_selection.train_test_split(X_data,y,test_size=0.1,random_state=42,stratify=y)",
      "execution_count": 31,
      "outputs": []
    },
    {
      "metadata": {
        "trusted": true,
        "_uuid": "89af6f7b945feb1f9d16accfd032a950cde5a2d2"
      },
      "cell_type": "code",
      "source": "# dados para dividir em treino e validação\nX_matrix.shape, y_matrix.shape",
      "execution_count": 32,
      "outputs": [
        {
          "output_type": "execute_result",
          "execution_count": 32,
          "data": {
            "text/plain": "((20376, 9781), (20376,))"
          },
          "metadata": {}
        }
      ]
    },
    {
      "metadata": {
        "trusted": true,
        "_uuid": "fc27d85797754ccb93b86e8c480451b3c877f92d"
      },
      "cell_type": "code",
      "source": "# dados de teste\nX_test.shape, y_test.shape",
      "execution_count": 33,
      "outputs": [
        {
          "output_type": "execute_result",
          "execution_count": 33,
          "data": {
            "text/plain": "((2265, 9781), (2265,))"
          },
          "metadata": {}
        }
      ]
    },
    {
      "metadata": {
        "trusted": true,
        "_uuid": "24a0ca3c3fa948ba822d1fff1d3f18b54715e497"
      },
      "cell_type": "code",
      "source": "X_train, X_val, y_train, y_val = model_selection.train_test_split(X_matrix,y_matrix,test_size=0.11115,random_state=42,stratify=y_matrix)",
      "execution_count": 34,
      "outputs": []
    },
    {
      "metadata": {
        "trusted": true,
        "_uuid": "fc7173e1bbf157fb4359318e53a43041644fcfd1"
      },
      "cell_type": "code",
      "source": "# dados de treino\nX_train.shape, y_train.shape",
      "execution_count": 35,
      "outputs": [
        {
          "output_type": "execute_result",
          "execution_count": 35,
          "data": {
            "text/plain": "((18111, 9781), (18111,))"
          },
          "metadata": {}
        }
      ]
    },
    {
      "metadata": {
        "trusted": true,
        "_uuid": "f0442f7e96d3a3b3656d3d35e9ba5c69ff7f1e27"
      },
      "cell_type": "code",
      "source": "# dados de validação\nX_val.shape, y_val.shape",
      "execution_count": 36,
      "outputs": [
        {
          "output_type": "execute_result",
          "execution_count": 36,
          "data": {
            "text/plain": "((2265, 9781), (2265,))"
          },
          "metadata": {}
        }
      ]
    },
    {
      "metadata": {
        "trusted": true,
        "_uuid": "a3684e5d58af004d02a1ad0a9745ccaae30f5376"
      },
      "cell_type": "code",
      "source": "acc = []\nloss = []",
      "execution_count": 37,
      "outputs": []
    },
    {
      "metadata": {
        "trusted": true,
        "_uuid": "b6e86d4bea5fb2fbabb73f91f50b27c067126392"
      },
      "cell_type": "code",
      "source": "model = MLPClassifier(learning_rate_init=0.001,warm_start=True,max_iter=1)",
      "execution_count": 38,
      "outputs": []
    },
    {
      "metadata": {
        "trusted": true,
        "_uuid": "602b2312033a424c91d28104694d639908bac8f0"
      },
      "cell_type": "code",
      "source": "for i in range(40):\n    acc_ = model.fit(X_train,y_train).score(X_val,y_val)\n    acc.append(acc_)\n    loss.append(model.loss_)\n    print('acc: {} | loss: {}'.format(acc_,model.loss_))",
      "execution_count": 39,
      "outputs": [
        {
          "output_type": "stream",
          "text": "acc: 0.5545253863134658 | loss: 1.2559771753096918\nacc: 0.6286975717439294 | loss: 0.9522760474837864\nacc: 0.6335540838852097 | loss: 0.816946144907221\nacc: 0.6392935982339956 | loss: 0.7310355238025394\nacc: 0.6370860927152318 | loss: 0.6622095652227716\nacc: 0.6322295805739514 | loss: 0.6053729886816571\nacc: 0.6291390728476821 | loss: 0.5563348581828865\nacc: 0.6291390728476821 | loss: 0.5135225159745289\nacc: 0.6242825607064018 | loss: 0.47658054901125363\nacc: 0.6211920529801325 | loss: 0.4439283724896738\nacc: 0.6189845474613687 | loss: 0.4142158094394521\nacc: 0.6154525386313465 | loss: 0.3874442166066995\nacc: 0.6123620309050772 | loss: 0.3622232480445405\nacc: 0.6101545253863134 | loss: 0.3401438970952256\nacc: 0.6066225165562914 | loss: 0.3192237547503124\nacc: 0.6044150110375276 | loss: 0.299387903395503\nacc: 0.601766004415011 | loss: 0.28049933816495776\nacc: 0.6026490066225165 | loss: 0.2628932517540596\nacc: 0.6022075055187638 | loss: 0.24707960512547095\nacc: 0.596467991169978 | loss: 0.23113790634593226\nacc: 0.5947019867549669 | loss: 0.21657280499028986\nacc: 0.5991169977924945 | loss: 0.20275122854187774\nacc: 0.590728476821192 | loss: 0.1896368675184282\nacc: 0.5885209713024283 | loss: 0.17803231464238192\nacc: 0.5924944812362031 | loss: 0.16632066254982095\nacc: 0.5916114790286976 | loss: 0.15585129002093664\nacc: 0.5876379690949227 | loss: 0.14557503747941325\nacc: 0.5849889624724062 | loss: 0.13594238335773098\nacc: 0.5827814569536424 | loss: 0.12718844196577161\nacc: 0.5854304635761589 | loss: 0.11868777383672224\nacc: 0.5818984547461369 | loss: 0.11119469195882388\nacc: 0.5841059602649007 | loss: 0.10365369320031609\nacc: 0.5796909492273731 | loss: 0.09719947809921507\nacc: 0.5801324503311258 | loss: 0.09091436480077374\nacc: 0.5766004415011038 | loss: 0.08484702134834209\nacc: 0.5810154525386313 | loss: 0.07910412887605743\nacc: 0.5818984547461369 | loss: 0.07400952616245332\nacc: 0.5814569536423841 | loss: 0.06910032346258892\nacc: 0.5770419426048565 | loss: 0.06482110658179538\nacc: 0.5788079470198676 | loss: 0.060589372826999215\n",
          "name": "stdout"
        }
      ]
    },
    {
      "metadata": {
        "trusted": true,
        "_uuid": "66cf1dfa44dbce0d830f5e7800a1d766bf8ccfcf"
      },
      "cell_type": "code",
      "source": "acc_teste = model.score(X_test,y_test)",
      "execution_count": 40,
      "outputs": []
    },
    {
      "metadata": {
        "trusted": true,
        "_uuid": "e553ef4d7c5111303f6a5c864ee259de4416a208"
      },
      "cell_type": "code",
      "source": "print('Acc test: ', acc_teste)",
      "execution_count": 41,
      "outputs": [
        {
          "output_type": "stream",
          "text": "Acc test:  0.5545253863134658\n",
          "name": "stdout"
        }
      ]
    },
    {
      "metadata": {
        "trusted": true,
        "_uuid": "b1250f2183b51d08449640c3cf2cc7ebd3c6ebd1"
      },
      "cell_type": "code",
      "source": "def plotar(v_acc,v_loss,epo):\n    acc = v_acc\n    loss = v_loss\n    epochs = range(1, epo + 1)\n\n    plt.plot(epochs, acc, 'bo', label='Validation acc')\n    plt.plot(epochs, loss, 'r', label='Validation loss')\n    plt.title('validation acc and loss')\n    plt.legend()\n    plt.show()",
      "execution_count": 42,
      "outputs": []
    },
    {
      "metadata": {
        "trusted": true,
        "_uuid": "1ad52f43a799de4e9b9513619fc74d9e1e3dccdc"
      },
      "cell_type": "code",
      "source": "plotar(acc,loss,40)",
      "execution_count": 43,
      "outputs": [
        {
          "output_type": "display_data",
          "data": {
            "text/plain": "<Figure size 432x288 with 1 Axes>",
            "image/png": "[encoded data removed]"
          },
          "metadata": {
            "needs_background": "light"
          }
        }
      ]
    },
    {
      "metadata": {
        "_uuid": "b92f0599efd212deca2215fbc0c13a229186304e"
      },
      "cell_type": "markdown",
      "source": "### item C)"
    },
    {
      "metadata": {
        "trusted": true,
        "_uuid": "7ceb8defcb47f823e6337320b0fba65ba94d044e"
      },
      "cell_type": "code",
      "source": "model = Sequential()\nmodel.add(Conv1D(128, 5, input_shape=(9781, 1)))\nmodel.add(Conv1D(64, 5))\nmodel.add(GlobalMaxPooling1D())\nmodel.add(Dropout(0.5))\nmodel.add(Dense(64, activation='relu'))\nmodel.add(Dense(5, activation='sigmoid'))\nmodel.summary()",
      "execution_count": 44,
      "outputs": [
        {
          "output_type": "stream",
          "text": "_________________________________________________________________\nLayer (type)                 Output Shape              Param #   \n=================================================================\nconv1d_1 (Conv1D)            (None, 9777, 128)         768       \n_________________________________________________________________\nconv1d_2 (Conv1D)            (None, 9773, 64)          41024     \n_________________________________________________________________\nglobal_max_pooling1d_1 (Glob (None, 64)                0         \n_________________________________________________________________\ndropout_1 (Dropout)          (None, 64)                0         \n_________________________________________________________________\ndense_1 (Dense)              (None, 64)                4160      \n_________________________________________________________________\ndense_2 (Dense)              (None, 5)                 325       \n=================================================================\nTotal params: 46,277\nTrainable params: 46,277\nNon-trainable params: 0\n_________________________________________________________________\n",
          "name": "stdout"
        }
      ]
    },
    {
      "metadata": {
        "trusted": true,
        "_uuid": "3370ad3cbfdff31a6f5392d3c159cc8512d8097e"
      },
      "cell_type": "code",
      "source": "X_train = np.expand_dims(X_train, axis=2) \nX_val = np.expand_dims(X_val, axis=2) \nX_test = np.expand_dims(X_test, axis=2)",
      "execution_count": 45,
      "outputs": []
    },
    {
      "metadata": {
        "trusted": true,
        "_uuid": "ba85310ecfff33cd10369f9ce7a407f167d5dd0d"
      },
      "cell_type": "code",
      "source": "X_train.shape",
      "execution_count": 46,
      "outputs": [
        {
          "output_type": "execute_result",
          "execution_count": 46,
          "data": {
            "text/plain": "(18111, 9781, 1)"
          },
          "metadata": {}
        }
      ]
    },
    {
      "metadata": {
        "trusted": true,
        "_uuid": "a045d149c44bb1435298aac13340e3704f7413bf"
      },
      "cell_type": "code",
      "source": "model.compile(optimizer=optimizers.Adamax(lr=0.001),loss='sparse_categorical_crossentropy', metrics=['acc'])",
      "execution_count": 47,
      "outputs": []
    },
    {
      "metadata": {
        "trusted": true,
        "_uuid": "e070694173704d5252aef9ad16cea9198ed8f087"
      },
      "cell_type": "code",
      "source": "history = model.fit(X_train, y_train, epochs=40, batch_size=128,validation_data=(X_val,y_val))",
      "execution_count": 48,
      "outputs": [
        {
          "output_type": "stream",
          "text": "Train on 18111 samples, validate on 2265 samples\nEpoch 1/40\n18111/18111 [==============================] - 52s 3ms/step - loss: 1.2904 - acc: 0.5518 - val_loss: 1.2256 - val_acc: 0.5536\nEpoch 2/40\n18111/18111 [==============================] - 46s 3ms/step - loss: 1.2333 - acc: 0.5539 - val_loss: 1.2240 - val_acc: 0.5536\nEpoch 3/40\n18111/18111 [==============================] - 46s 3ms/step - loss: 1.2311 - acc: 0.5539 - val_loss: 1.2248 - val_acc: 0.5536\nEpoch 4/40\n18111/18111 [==============================] - 46s 3ms/step - loss: 1.2299 - acc: 0.5539 - val_loss: 1.2249 - val_acc: 0.5536\nEpoch 5/40\n18111/18111 [==============================] - 46s 3ms/step - loss: 1.2287 - acc: 0.5539 - val_loss: 1.2247 - val_acc: 0.5536\nEpoch 6/40\n18111/18111 [==============================] - 46s 3ms/step - loss: 1.2286 - acc: 0.5539 - val_loss: 1.2235 - val_acc: 0.5536\nEpoch 7/40\n18111/18111 [==============================] - 46s 3ms/step - loss: 1.2290 - acc: 0.5539 - val_loss: 1.2234 - val_acc: 0.5536\nEpoch 8/40\n18111/18111 [==============================] - 46s 3ms/step - loss: 1.2275 - acc: 0.5539 - val_loss: 1.2230 - val_acc: 0.5536\nEpoch 9/40\n18111/18111 [==============================] - 46s 3ms/step - loss: 1.2262 - acc: 0.5539 - val_loss: 1.2228 - val_acc: 0.5536\nEpoch 10/40\n18111/18111 [==============================] - 46s 3ms/step - loss: 1.2252 - acc: 0.5539 - val_loss: 1.2236 - val_acc: 0.5536\nEpoch 11/40\n18111/18111 [==============================] - 46s 3ms/step - loss: 1.2270 - acc: 0.5539 - val_loss: 1.2222 - val_acc: 0.5536\nEpoch 12/40\n18111/18111 [==============================] - 46s 3ms/step - loss: 1.2265 - acc: 0.5539 - val_loss: 1.2252 - val_acc: 0.5536\nEpoch 13/40\n18111/18111 [==============================] - 46s 3ms/step - loss: 1.2268 - acc: 0.5539 - val_loss: 1.2237 - val_acc: 0.5536\nEpoch 14/40\n18111/18111 [==============================] - 46s 3ms/step - loss: 1.2261 - acc: 0.5539 - val_loss: 1.2223 - val_acc: 0.5536\nEpoch 15/40\n18111/18111 [==============================] - 46s 3ms/step - loss: 1.2264 - acc: 0.5539 - val_loss: 1.2218 - val_acc: 0.5536\nEpoch 16/40\n18111/18111 [==============================] - 46s 3ms/step - loss: 1.2260 - acc: 0.5539 - val_loss: 1.2222 - val_acc: 0.5536\nEpoch 17/40\n18111/18111 [==============================] - 46s 3ms/step - loss: 1.2272 - acc: 0.5539 - val_loss: 1.2219 - val_acc: 0.5536\nEpoch 18/40\n18111/18111 [==============================] - 46s 3ms/step - loss: 1.2246 - acc: 0.5539 - val_loss: 1.2219 - val_acc: 0.5536\nEpoch 19/40\n18111/18111 [==============================] - 46s 3ms/step - loss: 1.2256 - acc: 0.5539 - val_loss: 1.2230 - val_acc: 0.5536\nEpoch 20/40\n18111/18111 [==============================] - 46s 3ms/step - loss: 1.2248 - acc: 0.5539 - val_loss: 1.2221 - val_acc: 0.5536\nEpoch 21/40\n18111/18111 [==============================] - 46s 3ms/step - loss: 1.2252 - acc: 0.5539 - val_loss: 1.2222 - val_acc: 0.5536\nEpoch 22/40\n18111/18111 [==============================] - 46s 3ms/step - loss: 1.2252 - acc: 0.5539 - val_loss: 1.2220 - val_acc: 0.5536\nEpoch 23/40\n18111/18111 [==============================] - 46s 3ms/step - loss: 1.2243 - acc: 0.5539 - val_loss: 1.2231 - val_acc: 0.5536\nEpoch 24/40\n18111/18111 [==============================] - 46s 3ms/step - loss: 1.2239 - acc: 0.5539 - val_loss: 1.2238 - val_acc: 0.5536\nEpoch 25/40\n18111/18111 [==============================] - 46s 3ms/step - loss: 1.2241 - acc: 0.5539 - val_loss: 1.2217 - val_acc: 0.5536\nEpoch 26/40\n18111/18111 [==============================] - 46s 3ms/step - loss: 1.2249 - acc: 0.5539 - val_loss: 1.2220 - val_acc: 0.5536\nEpoch 27/40\n18111/18111 [==============================] - 46s 3ms/step - loss: 1.2247 - acc: 0.5539 - val_loss: 1.2229 - val_acc: 0.5536\nEpoch 28/40\n18111/18111 [==============================] - 46s 3ms/step - loss: 1.2238 - acc: 0.5539 - val_loss: 1.2218 - val_acc: 0.5536\nEpoch 29/40\n18111/18111 [==============================] - 46s 3ms/step - loss: 1.2250 - acc: 0.5539 - val_loss: 1.2217 - val_acc: 0.5536\nEpoch 30/40\n18111/18111 [==============================] - 46s 3ms/step - loss: 1.2243 - acc: 0.5539 - val_loss: 1.2222 - val_acc: 0.5536\nEpoch 31/40\n18111/18111 [==============================] - 46s 3ms/step - loss: 1.2238 - acc: 0.5539 - val_loss: 1.2217 - val_acc: 0.5536\nEpoch 32/40\n18111/18111 [==============================] - 46s 3ms/step - loss: 1.2244 - acc: 0.5539 - val_loss: 1.2217 - val_acc: 0.5536\nEpoch 33/40\n18111/18111 [==============================] - 46s 3ms/step - loss: 1.2240 - acc: 0.5539 - val_loss: 1.2220 - val_acc: 0.5536\nEpoch 34/40\n18111/18111 [==============================] - 46s 3ms/step - loss: 1.2240 - acc: 0.5539 - val_loss: 1.2213 - val_acc: 0.5536\nEpoch 35/40\n18111/18111 [==============================] - 46s 3ms/step - loss: 1.2234 - acc: 0.5539 - val_loss: 1.2220 - val_acc: 0.5536\nEpoch 36/40\n18111/18111 [==============================] - 46s 3ms/step - loss: 1.2248 - acc: 0.5539 - val_loss: 1.2217 - val_acc: 0.5536\nEpoch 37/40\n18111/18111 [==============================] - 46s 3ms/step - loss: 1.2243 - acc: 0.5539 - val_loss: 1.2219 - val_acc: 0.5536\nEpoch 38/40\n18111/18111 [==============================] - 46s 3ms/step - loss: 1.2235 - acc: 0.5539 - val_loss: 1.2221 - val_acc: 0.5536\nEpoch 39/40\n18111/18111 [==============================] - 46s 3ms/step - loss: 1.2242 - acc: 0.5539 - val_loss: 1.2233 - val_acc: 0.5536\nEpoch 40/40\n18111/18111 [==============================] - 46s 3ms/step - loss: 1.2235 - acc: 0.5539 - val_loss: 1.2219 - val_acc: 0.5536\n",
          "name": "stdout"
        }
      ]
    },
    {
      "metadata": {
        "trusted": true,
        "_uuid": "158dbe08adf99d6323118ffbcb6847737f5ac0b8"
      },
      "cell_type": "code",
      "source": "loss, acc = model.evaluate(X_test,y_test)\nprint('Loss: {} | Acc: {}'.format(loss,acc))",
      "execution_count": 49,
      "outputs": [
        {
          "output_type": "stream",
          "text": "2265/2265 [==============================] - 3s 1ms/step\nLoss: 1.22285976557279 | Acc: 0.5540838850518199\n",
          "name": "stdout"
        }
      ]
    },
    {
      "metadata": {
        "trusted": true,
        "_uuid": "cfc3bea08159147520639681096ffca2a71a8c22"
      },
      "cell_type": "code",
      "source": "def plotar(history):\n    acc = history.history['acc']\n    val_acc = history.history['val_acc']\n    loss = history.history['loss']\n    val_loss = history.history['val_loss']\n    epochs = range(1, len(acc) + 1)\n\n    plt.plot(epochs, acc, 'bo', label='Training acc')\n    plt.plot(epochs, val_acc, 'r', label='Validation acc')\n    plt.title('Training and validation accuracy')\n    plt.legend()\n    plt.figure()\n\n    plt.plot(epochs, loss, 'bo', label='Training loss')\n    plt.plot(epochs, val_loss, 'r', label='Validation loss')\n    plt.title('Training and validation loss')\n    plt.legend()\n    plt.show()",
      "execution_count": 50,
      "outputs": []
    },
    {
      "metadata": {
        "trusted": true,
        "_uuid": "867f14f00309cf72a3eda011835c36a5b567380e"
      },
      "cell_type": "code",
      "source": "plotar(history)",
      "execution_count": 51,
      "outputs": [
        {
          "output_type": "display_data",
          "data": {
            "text/plain": "<Figure size 432x288 with 1 Axes>",
            "image/png": "[encoded data removed]"
          },
          "metadata": {
            "needs_background": "light"
          }
        },
        {
          "output_type": "display_data",
          "data": {
            "text/plain": "<Figure size 432x288 with 1 Axes>",
            "image/png": "[encoded data removed]"
          },
          "metadata": {
            "needs_background": "light"
          }
        }
      ]
    }
  ],
  "metadata": {
    "kernelspec": {
      "display_name": "Python 3",
      "language": "python",
      "name": "python3"
    },
    "language_info": {
      "name": "python",
      "version": "3.6.6",
      "mimetype": "text/x-python",
      "codemirror_mode": {
        "name": "ipython",
        "version": 3
      },
      "pygments_lexer": "ipython3",
      "nbconvert_exporter": "python",
      "file_extension": ".py"
    }
  },
  "nbformat": 4,
  "nbformat_minor": 1
}