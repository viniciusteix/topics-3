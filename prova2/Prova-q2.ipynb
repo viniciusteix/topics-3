{
 "cells": [
  {
   "cell_type": "code",
   "execution_count": 40,
   "metadata": {},
   "outputs": [],
   "source": [
    "%matplotlib inline\n",
    "\n",
    "from matplotlib import pyplot as plt\n",
    "\n",
    "import numpy as np\n",
    "import pandas as pd\n",
    "\n",
    "from sklearn import model_selection\n",
    "from sklearn import preprocessing\n",
    "from sklearn.feature_extraction.text import CountVectorizer\n",
    "from sklearn.feature_extraction.text import TfidfTransformer\n",
    "from sklearn.neural_network import MLPClassifier\n",
    "\n",
    "from keras.preprocessing import sequence\n",
    "from keras.preprocessing.text import Tokenizer\n",
    "from keras.models import Model, Sequential\n",
    "from keras.layers import LSTM, Activation, Dense, Dropout, Input, Embedding, SimpleRNN, Flatten\n",
    "from keras import optimizers\n",
    "\n",
    "import os\n",
    "\n",
    "import re\n",
    "from nltk.corpus import stopwords\n",
    "from nltk.stem import PorterStemmer\n",
    "\n",
    "import warnings\n",
    "warnings.filterwarnings(\"ignore\")"
   ]
  },
  {
   "cell_type": "markdown",
   "metadata": {},
   "source": [
    "## Questão 02"
   ]
  },
  {
   "cell_type": "markdown",
   "metadata": {},
   "source": [
    "### item A)"
   ]
  },
  {
   "cell_type": "code",
   "execution_count": 2,
   "metadata": {},
   "outputs": [],
   "source": [
    "# Carregamento do csv\n",
    "df = pd.read_csv('/home/viviane/Documentos/datasets/womens-ecommerce-clothing-reviews/Womens Clothing E-Commerce Reviews.csv',index_col='Unnamed: 0',usecols=['Unnamed: 0','Review Text','Rating'])"
   ]
  },
  {
   "cell_type": "code",
   "execution_count": 3,
   "metadata": {},
   "outputs": [
    {
     "data": {
      "text/html": [
       "<div>\n",
       "<style scoped>\n",
       "    .dataframe tbody tr th:only-of-type {\n",
       "        vertical-align: middle;\n",
       "    }\n",
       "\n",
       "    .dataframe tbody tr th {\n",
       "        vertical-align: top;\n",
       "    }\n",
       "\n",
       "    .dataframe thead th {\n",
       "        text-align: right;\n",
       "    }\n",
       "</style>\n",
       "<table border=\"1\" class=\"dataframe\">\n",
       "  <thead>\n",
       "    <tr style=\"text-align: right;\">\n",
       "      <th></th>\n",
       "      <th>Review Text</th>\n",
       "      <th>Rating</th>\n",
       "    </tr>\n",
       "  </thead>\n",
       "  <tbody>\n",
       "    <tr>\n",
       "      <th>0</th>\n",
       "      <td>Absolutely wonderful - silky and sexy and comf...</td>\n",
       "      <td>4</td>\n",
       "    </tr>\n",
       "    <tr>\n",
       "      <th>1</th>\n",
       "      <td>Love this dress!  it's sooo pretty.  i happene...</td>\n",
       "      <td>5</td>\n",
       "    </tr>\n",
       "    <tr>\n",
       "      <th>2</th>\n",
       "      <td>I had such high hopes for this dress and reall...</td>\n",
       "      <td>3</td>\n",
       "    </tr>\n",
       "    <tr>\n",
       "      <th>3</th>\n",
       "      <td>I love, love, love this jumpsuit. it's fun, fl...</td>\n",
       "      <td>5</td>\n",
       "    </tr>\n",
       "    <tr>\n",
       "      <th>4</th>\n",
       "      <td>This shirt is very flattering to all due to th...</td>\n",
       "      <td>5</td>\n",
       "    </tr>\n",
       "  </tbody>\n",
       "</table>\n",
       "</div>"
      ],
      "text/plain": [
       "                                         Review Text  Rating\n",
       "0  Absolutely wonderful - silky and sexy and comf...       4\n",
       "1  Love this dress!  it's sooo pretty.  i happene...       5\n",
       "2  I had such high hopes for this dress and reall...       3\n",
       "3  I love, love, love this jumpsuit. it's fun, fl...       5\n",
       "4  This shirt is very flattering to all due to th...       5"
      ]
     },
     "execution_count": 3,
     "metadata": {},
     "output_type": "execute_result"
    }
   ],
   "source": [
    "# Uma amostra dos dados\n",
    "df.head(5)"
   ]
  },
  {
   "cell_type": "code",
   "execution_count": 4,
   "metadata": {},
   "outputs": [
    {
     "data": {
      "text/plain": [
       "(23486, 2)"
      ]
     },
     "execution_count": 4,
     "metadata": {},
     "output_type": "execute_result"
    }
   ],
   "source": [
    "# Dimensões do dataset\n",
    "df.shape"
   ]
  },
  {
   "cell_type": "code",
   "execution_count": 5,
   "metadata": {},
   "outputs": [
    {
     "data": {
      "text/plain": [
       "(23486,)"
      ]
     },
     "execution_count": 5,
     "metadata": {},
     "output_type": "execute_result"
    }
   ],
   "source": [
    "# Quantidade de textos\n",
    "df['Review Text'].shape"
   ]
  },
  {
   "cell_type": "code",
   "execution_count": 6,
   "metadata": {},
   "outputs": [
    {
     "data": {
      "text/plain": [
       "(5,)"
      ]
     },
     "execution_count": 6,
     "metadata": {},
     "output_type": "execute_result"
    }
   ],
   "source": [
    "# Quantidade de classes existentes no problema\n",
    "df['Rating'].unique().shape"
   ]
  },
  {
   "cell_type": "code",
   "execution_count": 7,
   "metadata": {},
   "outputs": [
    {
     "data": {
      "text/plain": [
       "array([4, 5, 3, 2, 1])"
      ]
     },
     "execution_count": 7,
     "metadata": {},
     "output_type": "execute_result"
    }
   ],
   "source": [
    "# Classes existentes no problema\n",
    "df['Rating'].unique()"
   ]
  },
  {
   "cell_type": "code",
   "execution_count": 8,
   "metadata": {},
   "outputs": [
    {
     "data": {
      "text/plain": [
       "Review Text    845\n",
       "Rating           0\n",
       "dtype: int64"
      ]
     },
     "execution_count": 8,
     "metadata": {},
     "output_type": "execute_result"
    }
   ],
   "source": [
    "df.isnull().sum()"
   ]
  },
  {
   "cell_type": "code",
   "execution_count": 9,
   "metadata": {},
   "outputs": [],
   "source": [
    "df = df.dropna(how='any',axis=0)"
   ]
  },
  {
   "cell_type": "code",
   "execution_count": 10,
   "metadata": {},
   "outputs": [
    {
     "data": {
      "text/plain": [
       "Review Text    0\n",
       "Rating         0\n",
       "dtype: int64"
      ]
     },
     "execution_count": 10,
     "metadata": {},
     "output_type": "execute_result"
    }
   ],
   "source": [
    "df.isnull().sum()"
   ]
  },
  {
   "cell_type": "code",
   "execution_count": 11,
   "metadata": {},
   "outputs": [],
   "source": [
    "X = df.iloc[:,0].values\n",
    "y = df.iloc[:,1].values"
   ]
  },
  {
   "cell_type": "code",
   "execution_count": 12,
   "metadata": {},
   "outputs": [],
   "source": [
    "le = preprocessing.LabelEncoder()"
   ]
  },
  {
   "cell_type": "code",
   "execution_count": 13,
   "metadata": {},
   "outputs": [],
   "source": [
    "y = le.fit_transform(y)"
   ]
  },
  {
   "cell_type": "code",
   "execution_count": 14,
   "metadata": {},
   "outputs": [
    {
     "data": {
      "text/plain": [
       "(22641,)"
      ]
     },
     "execution_count": 14,
     "metadata": {},
     "output_type": "execute_result"
    }
   ],
   "source": [
    "X.shape"
   ]
  },
  {
   "cell_type": "code",
   "execution_count": 15,
   "metadata": {},
   "outputs": [
    {
     "data": {
      "text/plain": [
       "(22641,)"
      ]
     },
     "execution_count": 15,
     "metadata": {},
     "output_type": "execute_result"
    }
   ],
   "source": [
    "y.shape"
   ]
  },
  {
   "cell_type": "code",
   "execution_count": 16,
   "metadata": {},
   "outputs": [
    {
     "data": {
      "text/plain": [
       "\"The fabric felt cheap and i didn't find it to be a flattering top. for reference i am wearing a medium in the photos and my measurements are 38-30-40.\""
      ]
     },
     "execution_count": 16,
     "metadata": {},
     "output_type": "execute_result"
    }
   ],
   "source": [
    "X[100]"
   ]
  },
  {
   "cell_type": "code",
   "execution_count": 17,
   "metadata": {},
   "outputs": [
    {
     "data": {
      "text/plain": [
       "1"
      ]
     },
     "execution_count": 17,
     "metadata": {},
     "output_type": "execute_result"
    }
   ],
   "source": [
    "y[100]"
   ]
  },
  {
   "cell_type": "code",
   "execution_count": 18,
   "metadata": {},
   "outputs": [],
   "source": [
    "def preprocessor(text):\n",
    "    text = re.sub('<[^>]*>', '', text)\n",
    "    emoticons = re.findall('(?::|;|=)(?:-)?(?:\\)|\\(|D|P)',\n",
    "                           text)\n",
    "    text = (re.sub('[\\W]+', ' ', text.lower()) +\n",
    "            ' '.join(emoticons).replace('-', ''))\n",
    "    return text"
   ]
  },
  {
   "cell_type": "code",
   "execution_count": 19,
   "metadata": {},
   "outputs": [],
   "source": [
    "porter = PorterStemmer()\n",
    "def tokenizer_porter(text):\n",
    "    return [porter.stem(word) for word in text.split()]"
   ]
  },
  {
   "cell_type": "code",
   "execution_count": 20,
   "metadata": {},
   "outputs": [],
   "source": [
    "stop = stopwords.words('english')"
   ]
  },
  {
   "cell_type": "code",
   "execution_count": 21,
   "metadata": {},
   "outputs": [],
   "source": [
    "def preprocessing(texto):\n",
    "    texto = preprocessor(texto)\n",
    "    aux = [w for w in tokenizer_porter(texto) if w not in stop]\n",
    "    output = ''\n",
    "    output = output + aux[0]\n",
    "    for i in aux[1:]:\n",
    "        output = output + ' ' + i\n",
    "    return output"
   ]
  },
  {
   "cell_type": "code",
   "execution_count": 22,
   "metadata": {},
   "outputs": [],
   "source": [
    "for i in range(0,len(X)):\n",
    "    X[i] = preprocessing(X[i])"
   ]
  },
  {
   "cell_type": "code",
   "execution_count": 23,
   "metadata": {},
   "outputs": [
    {
     "data": {
      "text/plain": [
       "'fabric felt cheap find flatter top refer wear medium photo measur 38 30 40'"
      ]
     },
     "execution_count": 23,
     "metadata": {},
     "output_type": "execute_result"
    }
   ],
   "source": [
    "X[100]"
   ]
  },
  {
   "cell_type": "code",
   "execution_count": 24,
   "metadata": {},
   "outputs": [],
   "source": [
    "count = CountVectorizer()"
   ]
  },
  {
   "cell_type": "code",
   "execution_count": 25,
   "metadata": {},
   "outputs": [],
   "source": [
    "bag = count.fit_transform(X)"
   ]
  },
  {
   "cell_type": "code",
   "execution_count": 26,
   "metadata": {},
   "outputs": [],
   "source": [
    "tfidf = TfidfTransformer()"
   ]
  },
  {
   "cell_type": "code",
   "execution_count": 27,
   "metadata": {},
   "outputs": [],
   "source": [
    "tf_v = tfidf.fit_transform(bag)"
   ]
  },
  {
   "cell_type": "code",
   "execution_count": 28,
   "metadata": {},
   "outputs": [
    {
     "name": "stdout",
     "output_type": "stream",
     "text": [
      "Texto:  absolut wonder silki sexi comfort\n",
      "TF-IDF:  [0.44227076 0.56172223 0.51263852 0.2696221  0.39162531]\n",
      "\n",
      "----------------------------------\n",
      "\n",
      "Texto:  love thi dress sooo pretti happen find store glad bc never would order onlin bc petit bought petit 5 8 love length hit littl knee would definit true midi someon truli petit\n",
      "TF-IDF:  [0.19517107 0.21749268 0.13332796 0.04852079 0.12785379 0.26711943\n",
      " 0.18618393 0.12560115 0.38241549 0.09883138 0.13742185 0.18454059\n",
      " 0.25216678 0.14006787 0.10802322 0.11935315 0.16758936 0.15723491\n",
      " 0.22068163 0.17058347 0.15112677 0.08122661 0.14110878 0.11565722\n",
      " 0.49490515]\n",
      "\n",
      "----------------------------------\n",
      "\n",
      "Texto:  high hope thi dress realli want work initi order petit small usual size found thi outrag small small fact could zip reorder petit medium wa ok overal top half wa comfort fit nice bottom half veri tight layer sever somewhat cheap net layer imo major design flaw wa net layer sewn directli zipper c\n",
      "TF-IDF:  [0.12971741 0.14028826 0.07913223 0.08607879 0.154575   0.05589245\n",
      " 0.07781766 0.05915381 0.09126768 0.06573459 0.14413902 0.20957013\n",
      " 0.05245194 0.15064102 0.13241437 0.17725489 0.07246208 0.17269521\n",
      " 0.10820951 0.23526924 0.06694697 0.14085218 0.07291648 0.40384055\n",
      " 0.08673672 0.17983248 0.33141081 0.16068548 0.18460513 0.10744924\n",
      " 0.10071619 0.28598935 0.10560227 0.15220825 0.04772904 0.14142912\n",
      " 0.05502175 0.21339961 0.08982156 0.0885247  0.0741413  0.13193087\n",
      " 0.09796783]\n",
      "\n",
      "----------------------------------\n",
      "\n",
      "Texto:  love love love thi jumpsuit fun flirti fabul everi time wear get noth great compliment\n",
      "TF-IDF:  [0.13460668 0.23374376 0.07982199 0.32420845 0.34564034 0.35037492\n",
      " 0.14990782 0.20392561 0.27360582 0.4087262  0.35673164 0.28215663\n",
      " 0.24634796]\n",
      "\n",
      "----------------------------------\n",
      "\n",
      "Texto:  thi shirt veri flatter due adjust front tie perfect length wear leg sleeveless pair well ani cardigan love thi shirt\n",
      "TF-IDF:  [0.16817397 0.12426653 0.1253139  0.27231697 0.14738052 0.37013855\n",
      " 0.37240054 0.16136585 0.21946573 0.10636304 0.1812659  0.2169144\n",
      " 0.21923722 0.16097769 0.2923271  0.27608872 0.24516106 0.32835995]\n",
      "\n",
      "----------------------------------\n",
      "\n"
     ]
    }
   ],
   "source": [
    "res_a = []\n",
    "for i in range(0,5):\n",
    "    print('Texto: ', X[i])\n",
    "    print('TF-IDF: ', tf_v[i].data)\n",
    "    print('\\n----------------------------------\\n')"
   ]
  },
  {
   "cell_type": "markdown",
   "metadata": {},
   "source": [
    "### item B)"
   ]
  },
  {
   "cell_type": "code",
   "execution_count": 29,
   "metadata": {},
   "outputs": [],
   "source": [
    "X_data = tf_v.toarray()"
   ]
  },
  {
   "cell_type": "code",
   "execution_count": 30,
   "metadata": {},
   "outputs": [
    {
     "data": {
      "text/plain": [
       "22641"
      ]
     },
     "execution_count": 30,
     "metadata": {},
     "output_type": "execute_result"
    }
   ],
   "source": [
    "len(X_data)"
   ]
  },
  {
   "cell_type": "code",
   "execution_count": 31,
   "metadata": {},
   "outputs": [],
   "source": [
    "X_matrix, X_test, y_matrix, y_test = model_selection.train_test_split(X_data,y,test_size=0.1,random_state=42,stratify=y)"
   ]
  },
  {
   "cell_type": "code",
   "execution_count": 32,
   "metadata": {},
   "outputs": [
    {
     "data": {
      "text/plain": [
       "((20376, 9781), (20376,))"
      ]
     },
     "execution_count": 32,
     "metadata": {},
     "output_type": "execute_result"
    }
   ],
   "source": [
    "# dados para dividir em treino e validação\n",
    "X_matrix.shape, y_matrix.shape"
   ]
  },
  {
   "cell_type": "code",
   "execution_count": 33,
   "metadata": {},
   "outputs": [
    {
     "data": {
      "text/plain": [
       "((2265, 9781), (2265,))"
      ]
     },
     "execution_count": 33,
     "metadata": {},
     "output_type": "execute_result"
    }
   ],
   "source": [
    "# dados de teste\n",
    "X_test.shape, y_test.shape"
   ]
  },
  {
   "cell_type": "code",
   "execution_count": 34,
   "metadata": {},
   "outputs": [],
   "source": [
    "X_train, X_val, y_train, y_val = model_selection.train_test_split(X_matrix,y_matrix,test_size=0.11115,random_state=42,stratify=y_matrix)"
   ]
  },
  {
   "cell_type": "code",
   "execution_count": 35,
   "metadata": {},
   "outputs": [
    {
     "data": {
      "text/plain": [
       "((18111, 9781), (18111,))"
      ]
     },
     "execution_count": 35,
     "metadata": {},
     "output_type": "execute_result"
    }
   ],
   "source": [
    "# dados de treino\n",
    "X_train.shape, y_train.shape"
   ]
  },
  {
   "cell_type": "code",
   "execution_count": 36,
   "metadata": {},
   "outputs": [
    {
     "data": {
      "text/plain": [
       "((2265, 9781), (2265,))"
      ]
     },
     "execution_count": 36,
     "metadata": {},
     "output_type": "execute_result"
    }
   ],
   "source": [
    "# dados de validação\n",
    "X_val.shape, y_val.shape"
   ]
  },
  {
   "cell_type": "code",
   "execution_count": 48,
   "metadata": {},
   "outputs": [],
   "source": [
    "acc = []\n",
    "loss = []"
   ]
  },
  {
   "cell_type": "code",
   "execution_count": 49,
   "metadata": {},
   "outputs": [],
   "source": [
    "model = MLPClassifier(learning_rate_init=0.001,warm_start=True,max_iter=1)"
   ]
  },
  {
   "cell_type": "code",
   "execution_count": 50,
   "metadata": {},
   "outputs": [
    {
     "name": "stdout",
     "output_type": "stream",
     "text": [
      "acc: 0.5549668874172186 | loss: 1.2784637672628774\n",
      "acc: 0.6260485651214128 | loss: 0.9684379339005992\n",
      "acc: 0.6304635761589404 | loss: 0.8196405667194989\n",
      "acc: 0.6428256070640177 | loss: 0.7246191595589349\n",
      "acc: 0.6339955849889625 | loss: 0.6551494415679486\n",
      "acc: 0.6304635761589404 | loss: 0.59812254619439\n",
      "acc: 0.6251655629139072 | loss: 0.5483466909199258\n",
      "acc: 0.6278145695364239 | loss: 0.5044436499447732\n",
      "acc: 0.6136865342163356 | loss: 0.46648882365255095\n",
      "acc: 0.6189845474613687 | loss: 0.4313091623268022\n",
      "acc: 0.6158940397350994 | loss: 0.4002558822243566\n",
      "acc: 0.6141280353200883 | loss: 0.37146884339987907\n",
      "acc: 0.6088300220750552 | loss: 0.3455448874341565\n",
      "acc: 0.6123620309050772 | loss: 0.3221951377232702\n",
      "acc: 0.6026490066225165 | loss: 0.30110464553229177\n",
      "acc: 0.601766004415011 | loss: 0.28005698090929515\n",
      "acc: 0.6022075055187638 | loss: 0.26230010374445795\n",
      "acc: 0.6030905077262693 | loss: 0.2441954396368733\n",
      "acc: 0.6035320088300221 | loss: 0.22804038124458534\n",
      "acc: 0.6004415011037527 | loss: 0.21257327421895786\n",
      "acc: 0.5973509933774834 | loss: 0.19817321953004724\n",
      "acc: 0.6 | loss: 0.18549069074632515\n",
      "acc: 0.5933774834437087 | loss: 0.17319547236168423\n",
      "acc: 0.5933774834437087 | loss: 0.16148277842957298\n",
      "acc: 0.5942604856512141 | loss: 0.15033639031041132\n",
      "acc: 0.5933774834437087 | loss: 0.1400402272906574\n",
      "acc: 0.5929359823399558 | loss: 0.13083078047686825\n",
      "acc: 0.5933774834437087 | loss: 0.12193474278016711\n",
      "acc: 0.5885209713024283 | loss: 0.11395641809832359\n",
      "acc: 0.5867549668874172 | loss: 0.10636725585801234\n",
      "acc: 0.5902869757174393 | loss: 0.09913899503850873\n",
      "acc: 0.5929359823399558 | loss: 0.09260333212955049\n",
      "acc: 0.5898454746136865 | loss: 0.08653067623279963\n",
      "acc: 0.58719646799117 | loss: 0.080712956731524\n",
      "acc: 0.5858719646799116 | loss: 0.07523613311281377\n",
      "acc: 0.5854304635761589 | loss: 0.07039067284397268\n",
      "acc: 0.5854304635761589 | loss: 0.06580830787932\n",
      "acc: 0.5818984547461369 | loss: 0.06164646635622405\n",
      "acc: 0.5841059602649007 | loss: 0.057507191165849195\n",
      "acc: 0.5818984547461369 | loss: 0.053669101304162775\n"
     ]
    }
   ],
   "source": [
    "for i in range(40):\n",
    "    acc_ = model.fit(X_train,y_train).score(X_val,y_val)\n",
    "    acc.append(acc_)\n",
    "    loss.append(model.loss_)\n",
    "    print('acc: {} | loss: {}'.format(acc_,model.loss_))"
   ]
  },
  {
   "cell_type": "code",
   "execution_count": 51,
   "metadata": {},
   "outputs": [],
   "source": [
    "acc_teste = model.score(X_test,y_test)"
   ]
  },
  {
   "cell_type": "code",
   "execution_count": 52,
   "metadata": {},
   "outputs": [
    {
     "name": "stdout",
     "output_type": "stream",
     "text": [
      "Acc test:  0.5713024282560707\n"
     ]
    }
   ],
   "source": [
    "print('Acc test: ', acc_teste)"
   ]
  },
  {
   "cell_type": "code",
   "execution_count": 53,
   "metadata": {},
   "outputs": [],
   "source": [
    "def plotar(v_acc,v_loss,epo):\n",
    "    acc = v_acc\n",
    "    loss = v_loss\n",
    "    epochs = range(1, epo + 1)\n",
    "\n",
    "    plt.plot(epochs, acc, 'bo', label='Validation acc')\n",
    "    plt.plot(epochs, loss, 'r', label='Validation loss')\n",
    "    plt.title('validation acc and loss')\n",
    "    plt.legend()\n",
    "    plt.show()"
   ]
  },
  {
   "cell_type": "code",
   "execution_count": 54,
   "metadata": {},
   "outputs": [
    {
     "data": {
      "image/png": "[encoded data removed]",
      "text/plain": [
       "<Figure size 432x288 with 1 Axes>"
      ]
     },
     "metadata": {},
     "output_type": "display_data"
    }
   ],
   "source": [
    "plotar(acc,loss,40)"
   ]
  },
  {
   "cell_type": "markdown",
   "metadata": {},
   "source": [
    "### item C)"
   ]
  },
  {
   "cell_type": "code",
   "execution_count": null,
   "metadata": {},
   "outputs": [],
   "source": []
  }
 ],
 "metadata": {
  "kernelspec": {
   "display_name": "Python 3",
   "language": "python",
   "name": "python3"
  },
  "language_info": {
   "codemirror_mode": {
    "name": "ipython",
    "version": 3
   },
   "file_extension": ".py",
   "mimetype": "text/x-python",
   "name": "python",
   "nbconvert_exporter": "python",
   "pygments_lexer": "ipython3",
   "version": "3.6.5"
  }
 },
 "nbformat": 4,
 "nbformat_minor": 2
}
